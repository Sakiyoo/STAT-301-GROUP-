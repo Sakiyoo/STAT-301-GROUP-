{
 "cells": [
  {
   "cell_type": "code",
   "execution_count": null,
   "id": "4c014945-102a-4f80-b670-e15fecb5d79b",
   "metadata": {},
   "outputs": [
    {
     "name": "stderr",
     "output_type": "stream",
     "text": [
      "── \u001b[1mAttaching packages\u001b[22m ─────────────────────────────────────── tidyverse 1.3.2 ──\n",
      "\u001b[32m✔\u001b[39m \u001b[34mggplot2\u001b[39m 3.3.6      \u001b[32m✔\u001b[39m \u001b[34mpurrr  \u001b[39m 0.3.5 \n",
      "\u001b[32m✔\u001b[39m \u001b[34mtibble \u001b[39m 3.1.8      \u001b[32m✔\u001b[39m \u001b[34mdplyr  \u001b[39m 1.0.10\n",
      "\u001b[32m✔\u001b[39m \u001b[34mtidyr  \u001b[39m 1.2.1      \u001b[32m✔\u001b[39m \u001b[34mstringr\u001b[39m 1.4.1 \n",
      "\u001b[32m✔\u001b[39m \u001b[34mreadr  \u001b[39m 2.1.3      \u001b[32m✔\u001b[39m \u001b[34mforcats\u001b[39m 0.5.2 \n",
      "── \u001b[1mConflicts\u001b[22m ────────────────────────────────────────── tidyverse_conflicts() ──\n",
      "\u001b[31m✖\u001b[39m \u001b[34mdplyr\u001b[39m::\u001b[32mfilter()\u001b[39m masks \u001b[34mstats\u001b[39m::filter()\n",
      "\u001b[31m✖\u001b[39m \u001b[34mdplyr\u001b[39m::\u001b[32mlag()\u001b[39m    masks \u001b[34mstats\u001b[39m::lag()\n",
      "Registered S3 method overwritten by 'GGally':\n",
      "  method from   \n",
      "  +.gg   ggplot2\n",
      "\n",
      "Loading required package: car\n",
      "\n",
      "Loading required package: carData\n",
      "\n",
      "\n",
      "Attaching package: ‘car’\n",
      "\n",
      "\n",
      "The following object is masked from ‘package:dplyr’:\n",
      "\n",
      "    recode\n",
      "\n",
      "\n",
      "The following object is masked from ‘package:purrr’:\n",
      "\n",
      "    some\n",
      "\n",
      "\n",
      "Loading required package: lmtest\n",
      "\n",
      "Loading required package: zoo\n",
      "\n",
      "\n",
      "Attaching package: ‘zoo’\n",
      "\n",
      "\n",
      "The following objects are masked from ‘package:base’:\n",
      "\n",
      "    as.Date, as.Date.numeric\n",
      "\n",
      "\n",
      "Loading required package: sandwich\n",
      "\n",
      "Loading required package: survival\n",
      "\n",
      "\n",
      "Attaching package: ‘gridExtra’\n",
      "\n",
      "\n",
      "The following object is masked from ‘package:dplyr’:\n",
      "\n",
      "    combine\n",
      "\n",
      "\n",
      "Loading required package: lattice\n",
      "\n"
     ]
    }
   ],
   "source": [
    "library(tidyverse)\n",
    "library(repr)\n",
    "library(readxl)\n",
    "library(infer)\n",
    "library(cowplot)\n",
    "library(GGally)\n",
    "library(broom)\n",
    "library(dplyr)\n",
    "library(AER)\n",
    "library(digest)\n",
    "library(gridExtra)\n",
    "library(caret)\n",
    "library(pROC)\n",
    "library(boot)\n",
    "library(glmnet)\n",
    "library(leaps)\n",
    "library(faraway)\n",
    "library(mltools)"
   ]
  },
  {
   "cell_type": "code",
   "execution_count": null,
   "id": "f5c842a0-62f2-42e0-9818-fe3d40acd832",
   "metadata": {},
   "outputs": [],
   "source": [
    "set.seed(4)\n",
    "crime_data <- read_csv(\"data/communities.data\", col_names = FALSE)\n",
    "\n",
    "head(crime_data)"
   ]
  },
  {
   "cell_type": "code",
   "execution_count": null,
   "id": "57bb04a1-5add-4eda-a67d-b1d21cdc1e1f",
   "metadata": {},
   "outputs": [],
   "source": [
    "crime <- crime_data %>%\n",
    "  select(X1,X6,X14,X17,X26,X34,X36,X38,X47,X48,X128)%>%\n",
    "  rename(state = X1,\n",
    "         popComm = X6,\n",
    "         agePct16t24 = X14,\n",
    "         pctUrban = X17,\n",
    "         perCapInc = X26,\n",
    "         pctUnderPov = X34,\n",
    "         pctNotHSGrad = X36,\n",
    "         pctUnemployed = X38,\n",
    "         pctDiv = X47,\n",
    "         meanPerFam = X48,\n",
    "         totCrimesPerPop = X128)\n",
    "crime$pctUrban <- if_else(crime$pctUrban > 0,\n",
    "                 \"urban\",\"non-urban\")\n",
    "crime <- crime%>%\n",
    "  mutate(pctUrban = as_factor(pctUrban))\n",
    "\n",
    "head(crime)\n",
    "tail(crime)\n",
    "nrow(crime)"
   ]
  },
  {
   "cell_type": "code",
   "execution_count": null,
   "id": "4ee202a0-8fbc-4ce6-a9c1-6dc3615c83aa",
   "metadata": {},
   "outputs": [],
   "source": [
    "clean_crime <- crime %>%\n",
    "filter(state == 6) %>%\n",
    "select(- state)\n",
    "head(clean_crime)"
   ]
  },
  {
   "cell_type": "code",
   "execution_count": null,
   "id": "48c45ff9-8e63-407b-b956-c0c0506a733d",
   "metadata": {},
   "outputs": [],
   "source": [
    "options(repr.plot.width = 8, repr.plot.height = 4)\n",
    "\n",
    "tot_crime_dist <- clean_crime %>%\n",
    "    ggplot(aes(x = totCrimesPerPop)) +\n",
    "    geom_histogram(bins = 30, color = \"white\") +\n",
    "    xlab(\"Total number of violent crimes per 100K population\") +\n",
    "    ylab(\"Count\") +\n",
    "    ggtitle(\"Distribution of total crimes per 100K population\") +\n",
    "    theme(text = element_text(size = 10)) +\n",
    "    theme(plot.title = element_text(hjust = 0.45))\n",
    "tot_crime_dist"
   ]
  },
  {
   "cell_type": "code",
   "execution_count": null,
   "id": "b73f64dc-4d72-40e7-962e-416cfa3b7129",
   "metadata": {},
   "outputs": [],
   "source": [
    "# options(repr.plot.width = 11, repr.plot.height = 6)\n",
    "\n",
    "# crime_pair_plots <- clean_crime %>%\n",
    "#     ggpairs(progress = FALSE) +\n",
    "#   theme(\n",
    "#     text = element_text(size = 10),\n",
    "#     plot.title = element_text(face = \"bold\"),\n",
    "#     axis.title = element_text(face = \"bold\"),\n",
    "#     axis.text.x = element_text(angle = 20, hjust = 1)\n",
    "# )\n",
    "# crime_pair_plots"
   ]
  },
  {
   "cell_type": "code",
   "execution_count": null,
   "id": "6fb50134-9505-4dfc-a6f3-c7323921c664",
   "metadata": {},
   "outputs": [],
   "source": [
    "options(repr.plot.width = 8, repr.plot.height = 4)\n",
    "\n",
    "urban_totCrime_boxplot <- \n",
    "    clean_crime %>%\n",
    "    ggplot(aes(x = pctUrban, y = totCrimesPerPop , color = pctUrban)) +\n",
    "    geom_boxplot() +\n",
    "    xlab(\"Urbanization\") +\n",
    "    ylab(\"Total number of violent crimes per 100K population\") +\n",
    "    ggtitle(\"Total number of violent crimes per 100K population for Urban and Non-urban areas\") +\n",
    "    theme(text = element_text(size = 10)) +\n",
    "    theme(plot.title = element_text(hjust = 0.5))\n",
    "\n",
    "urban_totCrime_boxplot"
   ]
  },
  {
   "cell_type": "code",
   "execution_count": null,
   "id": "80e8d2b8-5d51-438d-a702-0037c29d27ee",
   "metadata": {},
   "outputs": [],
   "source": [
    "crime_summary <-\n",
    "    clean_crime %>%\n",
    "    select(-pctUrban) %>%\n",
    "    pivot_longer(cols = everything()) %>%\n",
    "    group_by(name) %>% \n",
    "    summarise(\n",
    "    mean = mean(value,na.rm = T),\n",
    "    sd = sd(value,na.rm = T),\n",
    "    median = median(value, na.rm = T),\n",
    "    variance = var(value, na.rm = T),\n",
    "    max = max(value, na.rm = T),\n",
    "    min = min(value, na.rm = T))\n",
    "\n",
    "crime_summary"
   ]
  },
  {
   "cell_type": "markdown",
   "id": "c161f61a-be91-44a6-b857-e696c822ce21",
   "metadata": {},
   "source": [
    "**Check Model Assumption**"
   ]
  },
  {
   "cell_type": "code",
   "execution_count": null,
   "id": "1a9b15bc-04aa-40c5-8289-f11c5b2d9374",
   "metadata": {},
   "outputs": [],
   "source": [
    "#check heteroscedastic\n",
    "model <- lm(formula = log(totCrimesPerPop) ~., data = clean_crime)\n",
    "\n",
    "options(repr.plot.width = 5.5, repr.plot.height = 5.5)\n",
    "plot(model, 1, main = \"Checking whether heteroscedastic\")\n"
   ]
  },
  {
   "cell_type": "code",
   "execution_count": null,
   "id": "6f6c9047-f660-47cf-9d6b-1714e73c5cf4",
   "metadata": {},
   "outputs": [],
   "source": [
    "#check normality \n",
    "plot(model, 2, main = \"Model\")\n",
    "\n",
    "hist(residuals(object = model),\n",
    "  breaks = 10,\n",
    "  main = \"Histogram of Residuals for Model\",\n",
    "  xlab = \"Residuals\"\n",
    ")"
   ]
  },
  {
   "cell_type": "code",
   "execution_count": null,
   "id": "f938ae3e-fdff-4b39-abb6-1d07dd3ff111",
   "metadata": {},
   "outputs": [],
   "source": [
    "#check multicollinearity\n",
    "corr_matrix_crime <- \n",
    "    clean_crime %>%\n",
    "    select(- pctUrban) %>%\n",
    "    cor() %>%\n",
    "    as.data.frame() %>%\n",
    "    rownames_to_column(\"var1\") %>%\n",
    "    pivot_longer(- var1, names_to = \"var2\", values_to = \"corr\")\n",
    "head(corr_matrix_crime)"
   ]
  },
  {
   "cell_type": "code",
   "execution_count": null,
   "id": "9963062c-bde3-4bdd-9848-d8e715977149",
   "metadata": {},
   "outputs": [],
   "source": [
    "# plot vif\n",
    "options(repr.plot.width = 7, repr.plot.height = 7)\n",
    "\n",
    "plot_corr_matrix_crime <- corr_matrix_crime %>%\n",
    "  ggplot(aes(var1, var2)) +\n",
    "  geom_tile(aes(fill = corr), color = \"white\") +\n",
    "  scale_fill_distiller(\"Correlation Coefficient \\n\",\n",
    "    palette =  \"YlOrRd\",\n",
    "    direction = 1, limits = c(-1,1)\n",
    "  ) +\n",
    "  labs(x = \"Variable 1\", y = \"Variable 2\") +\n",
    "  theme_minimal() +\n",
    "  theme(\n",
    "    axis.text.x = element_text(\n",
    "      angle = 45, vjust = 1,\n",
    "      size = 8, hjust = 1\n",
    "    ),\n",
    "    axis.text.y = element_text(\n",
    "      vjust = 1,\n",
    "      size = 8, hjust = 1\n",
    "    ),\n",
    "    legend.title = element_text(size = 8, face = \"bold\"),\n",
    "    legend.text = element_text(size = 8),\n",
    "    legend.key.size = unit(1, \"cm\")\n",
    "  ) +\n",
    "  coord_fixed() +\n",
    "  geom_text(aes(var1, var2, label = round(corr, 2)), color = \"black\", size = 3.8)\n",
    "plot_corr_matrix_crime"
   ]
  },
  {
   "cell_type": "code",
   "execution_count": null,
   "id": "7fa55d51-79b5-4383-bb31-f73e3d9e2929",
   "metadata": {},
   "outputs": [],
   "source": [
    "# get vif of variables\n",
    "VIF_crime <- vif(model)\n",
    "round(VIF_crime, 3)"
   ]
  },
  {
   "cell_type": "code",
   "execution_count": null,
   "id": "62364a12-4194-4c47-8b51-7a712809c5b6",
   "metadata": {},
   "outputs": [],
   "source": [
    "# Divide data into training set and testing set\n",
    "set.seed(4)\n",
    "\n",
    "clean_crime$ID <- 1:nrow(clean_crime)\n",
    "crime_train <- \n",
    "    slice_sample(clean_crime, prop = 0.70) \n",
    "    \n",
    "crime_test <- \n",
    "    clean_crime %>%\n",
    "    anti_join(crime_train, by = \"ID\")\n",
    "\n",
    "head(crime_train)\n",
    "nrow(crime_train)\n",
    "head(crime_test)\n",
    "nrow(crime_test)"
   ]
  },
  {
   "cell_type": "code",
   "execution_count": null,
   "id": "21328875-616f-4871-a82e-1380f1b43e7e",
   "metadata": {},
   "outputs": [],
   "source": [
    "crime_train <- crime_train %>% select(- \"ID\")\n",
    "crime_test <- crime_test %>% select(- \"ID\")"
   ]
  },
  {
   "cell_type": "code",
   "execution_count": null,
   "id": "6be6c18f-3955-456f-afcf-71c3d4706478",
   "metadata": {},
   "outputs": [],
   "source": [
    "# forward selection for predictive\n",
    "crime_forward_sel <- regsubsets(\n",
    "    x = totCrimesPerPop ~., nvmax = 9,\n",
    "    data = crime_train,\n",
    "    method = \"forward\")\n",
    "\n",
    "crime_forward_summary <- summary(crime_forward_sel)\n",
    "crime_forward_summary"
   ]
  },
  {
   "cell_type": "code",
   "execution_count": null,
   "id": "d5f5ef46-366b-4760-956e-338b9bc9a2be",
   "metadata": {},
   "outputs": [],
   "source": [
    "crime_forward_summary_df <- tibble(\n",
    "    n_input_variables = 1:9,\n",
    "    RSQ = crime_forward_summary$rsq,\n",
    "    RSS = crime_forward_summary$rss,\n",
    "    ADJ.R2 = crime_forward_summary$adjr2,\n",
    "    Cp = crime_forward_summary$cp,\n",
    "    BIC = crime_forward_summary$bic,\n",
    ")\n",
    "crime_forward_summary_df\n",
    "#for inference we look at ADJ.R2(higher is better); for predictive, we look at Cp(lower is better)"
   ]
  },
  {
   "cell_type": "code",
   "execution_count": null,
   "id": "3fd3ea48-aa82-4339-ac68-2b6321102e77",
   "metadata": {},
   "outputs": [],
   "source": [
    "# for inference model, we want to compare a full model and a reduced model\n",
    "\n",
    "#full model\n",
    "crime_full_OLS_inf <- lm(formula = totCrimesPerPop ~., data = crime_train)\n",
    "tidy(crime_full_OLS_inf)\n",
    "\n",
    "#reduced model\n",
    "crime_reduced_OLS_inf <- lm(formula = totCrimesPerPop ~ popComm + pctUrban + perCapInc + pctUnderPov + pctNotHSGrad \n",
    "                            + pctUnemployed + pctDiv + meanPerFam, data = crime_train)\n",
    "tidy(crime_reduced_OLS_inf)"
   ]
  },
  {
   "cell_type": "code",
   "execution_count": null,
   "id": "60e8d386-a589-42e9-acc2-385b68d9b280",
   "metadata": {},
   "outputs": [],
   "source": [
    "glance(crime_full_OLS_inf)$r.squared\n",
    "glance(crime_reduced_OLS_inf)$r.squared"
   ]
  },
  {
   "cell_type": "code",
   "execution_count": null,
   "id": "8d454a53-a69a-476f-94c4-9d0b4977dd06",
   "metadata": {},
   "outputs": [],
   "source": [
    "# choose cp\n",
    "plot(summary(crime_forward_sel)$cp,\n",
    "  main = \"Cp for forward selection\",\n",
    "  xlab = \"Number of Input Variables\", ylab = \"Rsq\", type = \"b\", pch = 9,\n",
    "  col = \"red\"\n",
    ")"
   ]
  },
  {
   "cell_type": "code",
   "execution_count": null,
   "id": "b56b7aad-41d4-44af-8506-d9531f23de68",
   "metadata": {},
   "outputs": [],
   "source": [
    "# for predictive model, we also compare a full model and a reduced model\n",
    "\n",
    "#full model\n",
    "crime_full_OLS_pred <- lm(formula = totCrimesPerPop ~., data = crime_train)\n",
    "test_crime_full_OLS_pred <- predict(crime_full_OLS_pred, newdata = crime_test)\n",
    "crime_R_MSE_pred_models <- tibble(\n",
    "    Model = \"OLS Full Regression\",\n",
    "    R_MSE = rmse(\n",
    "        preds = test_crime_full_OLS_pred,\n",
    "        actuals = crime_test$totCrimesPerPop))\n",
    "crime_R_MSE_pred_models\n"
   ]
  },
  {
   "cell_type": "code",
   "execution_count": null,
   "id": "24939749-a538-4e2c-b615-520d2897eff0",
   "metadata": {},
   "outputs": [],
   "source": [
    "# reduced model\n",
    "crime_reduced_OLS_pred <- lm(formula = totCrimesPerPop ~ popComm + pctUrban + perCapInc + pctUnderPov + pctNotHSGrad \n",
    "                            + pctUnemployed + pctDiv + meanPerFam, data = crime_train)\n",
    "test_crime_reduced_OLS_pred <- predict(crime_reduced_OLS_pred, newdata = crime_test)\n",
    "crime_R_MSE_pred_models <- rbind(\n",
    "    crime_R_MSE_pred_models,\n",
    "    tibble(\n",
    "        Model = \"OLS Reduced Regression\",\n",
    "        R_MSE = rmse(\n",
    "            preds = test_crime_reduced_OLS_pred,\n",
    "            actuals = crime_test$totCrimesPerPop)))\n",
    "crime_R_MSE_pred_models"
   ]
  },
  {
   "cell_type": "markdown",
   "id": "4c7ad638-26f9-4277-8884-0c0f9fba30b5",
   "metadata": {},
   "source": [
    "## Lasso"
   ]
  },
  {
   "cell_type": "code",
   "execution_count": null,
   "id": "2d769bb2-3f7f-44ad-ba03-a906c345d16e",
   "metadata": {},
   "outputs": [],
   "source": [
    "# change categorical into 0 and 1\n",
    "\n",
    "crime_train <- crime_train %>%\n",
    "    mutate(pctUrban = if_else(pctUrban == \"urban\", 1, 0))\n",
    "\n",
    "crime_test <- crime_test %>%\n",
    "    mutate(pctUrban = if_else(pctUrban == \"urban\", 1, 0))\n",
    "\n",
    "head(crime_train)"
   ]
  },
  {
   "cell_type": "code",
   "execution_count": null,
   "id": "1ff69b66-a4e5-46fc-89fa-5cccff0d9fe5",
   "metadata": {},
   "outputs": [],
   "source": [
    "# build matrix \n",
    "crime_train_X <- crime_train %>% select(- \"totCrimesPerPop\") %>% as.matrix()\n",
    "crime_train_Y <- crime_train %>% select(\"totCrimesPerPop\") %>% as.matrix()\n",
    "\n",
    "crime_test_X <- crime_test %>% select(- \"totCrimesPerPop\") %>% as.matrix()\n",
    "crime_test_Y <- crime_test %>% select(\"totCrimesPerPop\") %>% as.matrix()\n"
   ]
  },
  {
   "cell_type": "code",
   "execution_count": null,
   "id": "dddc3b1a-65fd-4a32-990f-71e76ff09c5d",
   "metadata": {},
   "outputs": [],
   "source": [
    "# choose lambda\n",
    "crime_cv_lambda_LASSO <- cv.glmnet(\n",
    "    x = crime_train_X, \n",
    "    y = crime_train_Y,\n",
    "    alpha = 1)\n",
    "\n",
    "plot(crime_cv_lambda_LASSO, main = \"Lambda selection by CV with LASSO\\n\\n\")"
   ]
  },
  {
   "cell_type": "code",
   "execution_count": null,
   "id": "125dbd41-fd84-43e9-922f-a6debd3b9fed",
   "metadata": {},
   "outputs": [],
   "source": [
    "crime_lambda_min_MSE_LASSO <- round(crime_cv_lambda_LASSO$lambda.min, 4)\n",
    "crime_lambda_min_MSE_LASSO"
   ]
  },
  {
   "cell_type": "code",
   "execution_count": null,
   "id": "141f946c-3e51-4497-9081-b3cdf34a901d",
   "metadata": {},
   "outputs": [],
   "source": [
    "crime_cv_lambda_LASSO <- glmnet(\n",
    "    x = crime_train_X, \n",
    "    y = crime_train_Y,\n",
    "    alpha = 1,\n",
    "    lambda = crime_lambda_min_MSE_LASSO)"
   ]
  },
  {
   "cell_type": "code",
   "execution_count": null,
   "id": "b5dee9a8-ee43-4de2-a332-77fff8a5647b",
   "metadata": {},
   "outputs": [],
   "source": [
    "crime_test_pred_LASSO_min <- predict(crime_cv_lambda_LASSO, newx = crime_test_X)"
   ]
  },
  {
   "cell_type": "code",
   "execution_count": null,
   "id": "db45ebcc-31eb-485c-adaa-c33e97433222",
   "metadata": {},
   "outputs": [],
   "source": [
    "crime_R_MSE_pred_models <- rbind(crime_R_MSE_pred_models,\n",
    "    tibble(\n",
    "    Model = \"LASSO Regression with minimum MSE\",\n",
    "    R_MSE = rmse(\n",
    "        preds = crime_test_pred_LASSO_min,\n",
    "        actuals = crime_test$totCrimesPerPop)))\n",
    "crime_R_MSE_pred_models"
   ]
  },
  {
   "cell_type": "code",
   "execution_count": null,
   "id": "c64efa41-c634-4dce-8c1b-62c7fc43020e",
   "metadata": {},
   "outputs": [],
   "source": []
  }
 ],
 "metadata": {
  "kernelspec": {
   "display_name": "R",
   "language": "R",
   "name": "ir"
  },
  "language_info": {
   "codemirror_mode": "r",
   "file_extension": ".r",
   "mimetype": "text/x-r-source",
   "name": "R",
   "pygments_lexer": "r",
   "version": "4.1.3"
  }
 },
 "nbformat": 4,
 "nbformat_minor": 5
}
