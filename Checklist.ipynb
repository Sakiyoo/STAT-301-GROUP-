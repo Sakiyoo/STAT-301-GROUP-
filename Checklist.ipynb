{
 "cells": [
  {
   "cell_type": "markdown",
   "id": "cb72c68b-3857-44f5-894e-2b285ddcf476",
   "metadata": {},
   "source": [
    "Checklist for proposal:\n",
    "\n",
    "- [ ] Within 500 words (about 1 page)\n",
    "- [ ] Submit both .html and .ipynb files\n",
    "- [x] Title\n",
    "- [x] Introduction\n",
    "    - [x] Relevant background information\n",
    "    - [x] Clearly state question (involve one random variable of interest i.e. response variable, and one or more explanatory variables) and whether the focus is prediction, inference, or both\n",
    "    - [x] Identify and describe the dataset\n",
    "- [x] Exploratory Data Analysis (Preliminary results)\n",
    "    - [x] Read dataset from the web into R\n",
    "    - [x] Clean and wrangle data into tidy format\n",
    "    - [x] Plot relevant raw data - association between explanatory and response variables & high quality plots\n",
    "    - [x] Relevant summary tables \n",
    "- [ ] Methods: Plan\n",
    "    - [x] Brief description of good things of report - in what ways is the report trustworthy\n",
    "    - [ ] What methods do you plan on using\n",
    "    - [ ] What do you expect to achieve\n",
    "    - [x] What impact could your results have\n",
    "- [x] References\n",
    "    - [x] Include at least two scientific publications (any format as long as it is consistent)\n"
   ]
  },
  {
   "cell_type": "code",
   "execution_count": null,
   "id": "8a79b074-9d01-4370-9bbf-b4672067dde7",
   "metadata": {},
   "outputs": [],
   "source": []
  }
 ],
 "metadata": {
  "kernelspec": {
   "display_name": "R",
   "language": "R",
   "name": "ir"
  },
  "language_info": {
   "codemirror_mode": "r",
   "file_extension": ".r",
   "mimetype": "text/x-r-source",
   "name": "R",
   "pygments_lexer": "r",
   "version": "4.1.3"
  }
 },
 "nbformat": 4,
 "nbformat_minor": 5
}
