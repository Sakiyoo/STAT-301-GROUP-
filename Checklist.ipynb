{
 "cells": [
  {
   "cell_type": "markdown",
   "id": "82fc5ba8-9e8a-43f0-8bdf-3025ba081d16",
   "metadata": {},
   "source": [
    "**Checklist for final report**\n",
    "- [ ] Submit both .ipynb and .html files\n",
    "- [ ] Maximum 2000 words (not including citations)\n",
    "- [ ] Title\n",
    "- [ ] Introduction\n",
    "    - [ ] Same as proposal \n",
    "    - [ ] Improve based on feedback and own improved understanding\n",
    "- [ ] Methods and Results\n",
    "    - [ ] Include “Preliminary results”\n",
    "    - [ ] Used written English to describe codes \n",
    "    - [ ] “Feature Selection” process: how and why we choose the covariates of the final model\n",
    "    - [ ] Interpret and explain the results we obtain\n",
    "    - [ ] Ex. If aim is inference, detailed interpretation of fitted model is required, as well as a discussion of relevant quantities\n",
    "    - [ ] Careful model assessment must be conducted\n",
    "    - [ ] Labelled tables and figures\n",
    "    - [ ] Additional results we planned to conduct as indicated in “Method” of proposal\n",
    "    - [ ] Make improvements based on feedback and own improved understanding \n",
    "- [ ] Discussion\n",
    "    - [ ] Summarize what we found, and the implications/impact of findings\n",
    "    - [ ] Discuss whether our results were what we expected to find\n",
    "    - [ ] Discuss how our model could be improved \n",
    "    - [ ] Discuss future questions/research this study could lead to\n",
    "- [ ] References\n",
    "    - [ ] Same as proposal\n",
    "    - [ ] Change if needed (e.g feedback suggest to change)\n"
   ]
  }
 ],
 "metadata": {
  "kernelspec": {
   "display_name": "R",
   "language": "R",
   "name": "ir"
  },
  "language_info": {
   "codemirror_mode": "r",
   "file_extension": ".r",
   "mimetype": "text/x-r-source",
   "name": "R",
   "pygments_lexer": "r",
   "version": "4.1.3"
  }
 },
 "nbformat": 4,
 "nbformat_minor": 5
}
