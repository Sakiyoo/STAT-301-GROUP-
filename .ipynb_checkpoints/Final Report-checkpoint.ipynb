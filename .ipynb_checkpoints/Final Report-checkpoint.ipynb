{
 "cells": [
  {
   "cell_type": "markdown",
   "id": "4a024f0e-e720-44a1-b60c-dd30d95ec75b",
   "metadata": {},
   "source": [
    "# Final Report #"
   ]
  },
  {
   "cell_type": "code",
   "execution_count": null,
   "id": "0fc38041-00a1-4d9b-91c3-d0d3c919059d",
   "metadata": {},
   "outputs": [],
   "source": []
  }
 ],
 "metadata": {
  "kernelspec": {
   "display_name": "R",
   "language": "R",
   "name": "ir"
  },
  "language_info": {
   "codemirror_mode": "r",
   "file_extension": ".r",
   "mimetype": "text/x-r-source",
   "name": "R",
   "pygments_lexer": "r",
   "version": "4.1.3"
  }
 },
 "nbformat": 4,
 "nbformat_minor": 5
}
