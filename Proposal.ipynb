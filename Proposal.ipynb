{
 "cells": [
  {
   "cell_type": "markdown",
   "id": "c393c9bd-4a07-4eb4-a6ae-d8e0f8f857bc",
   "metadata": {},
   "source": [
    "# Proposal"
   ]
  },
  {
   "cell_type": "markdown",
   "id": "65f8b627-9ba2-435a-a914-443f0126b9c2",
   "metadata": {},
   "source": [
    "### Introduction"
   ]
  },
  {
   "cell_type": "markdown",
   "id": "710a9a1e-2171-48e9-aeba-b3973294185b",
   "metadata": {},
   "source": []
  },
  {
   "cell_type": "markdown",
   "id": "cb57c674-e71e-4ce7-882b-fd38943b2532",
   "metadata": {},
   "source": [
    "### Preliminary Results"
   ]
  },
  {
   "cell_type": "code",
   "execution_count": 1,
   "id": "1458e17a-53e4-476e-8556-c9ca858ce74c",
   "metadata": {},
   "outputs": [
    {
     "name": "stderr",
     "output_type": "stream",
     "text": [
      "── \u001b[1mAttaching packages\u001b[22m ─────────────────────────────────────── tidyverse 1.3.2 ──\n",
      "\u001b[32m✔\u001b[39m \u001b[34mggplot2\u001b[39m 3.3.6      \u001b[32m✔\u001b[39m \u001b[34mpurrr  \u001b[39m 0.3.5 \n",
      "\u001b[32m✔\u001b[39m \u001b[34mtibble \u001b[39m 3.1.8      \u001b[32m✔\u001b[39m \u001b[34mdplyr  \u001b[39m 1.0.10\n",
      "\u001b[32m✔\u001b[39m \u001b[34mtidyr  \u001b[39m 1.2.1      \u001b[32m✔\u001b[39m \u001b[34mstringr\u001b[39m 1.4.1 \n",
      "\u001b[32m✔\u001b[39m \u001b[34mreadr  \u001b[39m 2.1.3      \u001b[32m✔\u001b[39m \u001b[34mforcats\u001b[39m 0.5.2 \n",
      "── \u001b[1mConflicts\u001b[22m ────────────────────────────────────────── tidyverse_conflicts() ──\n",
      "\u001b[31m✖\u001b[39m \u001b[34mdplyr\u001b[39m::\u001b[32mfilter()\u001b[39m masks \u001b[34mstats\u001b[39m::filter()\n",
      "\u001b[31m✖\u001b[39m \u001b[34mdplyr\u001b[39m::\u001b[32mlag()\u001b[39m    masks \u001b[34mstats\u001b[39m::lag()\n"
     ]
    }
   ],
   "source": [
    "library(tidyverse)\n",
    "library(repr)\n",
    "library(readxl)\n",
    "library(infer)"
   ]
  },
  {
   "cell_type": "markdown",
   "id": "e4e8e4d4-6c1f-4f80-b885-af533d267553",
   "metadata": {},
   "source": [
    "X1 -- state: US state (by number) - not counted as predictive above, but if considered, should be consided nominal (nominal)\n",
    "\n",
    "X6 -- population: population for community: (numeric - decimal)\n",
    "\n",
    "X14 -- agePct16t24: percentage of population that is 16-24 in age (numeric - decimal)\n",
    "\n",
    "X17 -- pctUrban: percentage of people living in areas classified as urban (numeric - decimal)\n",
    "\n",
    "X26 -- perCapInc: per capita income (numeric - decimal)\n",
    "\n",
    "X34 -- PctPopUnderPov: percentage of people under the poverty level (numeric - decimal)\n",
    "\n",
    "X36 -- PctNotHSGrad: percentage of people 25 and over that are not high school graduates (numeric - decimal)\n",
    "\n",
    "X38 -- PctUnemployed: percentage of people 16 and over, in the labor force, and unemployed (numeric - decimal)\n",
    "\n",
    "X47 -- TotalPctDiv: percentage of population who are divorced (numeric - decimal)\n",
    "\n",
    "X48 -- PersPerFam: mean number of people per family (numeric - decimal)\n",
    "\n",
    "X128 -- ViolentCrimesPerPop: total number of violent crimes per 100K popuation (numeric - decimal) GOAL attribute (to be predicted)"
   ]
  },
  {
   "cell_type": "code",
   "execution_count": 27,
   "id": "29271435-ca33-44bf-96d5-755383e2d453",
   "metadata": {},
   "outputs": [
    {
     "name": "stderr",
     "output_type": "stream",
     "text": [
      "\u001b[1mRows: \u001b[22m\u001b[34m1994\u001b[39m \u001b[1mColumns: \u001b[22m\u001b[34m128\u001b[39m\n",
      "\u001b[36m──\u001b[39m \u001b[1mColumn specification\u001b[22m \u001b[36m────────────────────────────────────────────────────────\u001b[39m\n",
      "\u001b[1mDelimiter:\u001b[22m \",\"\n",
      "\u001b[31mchr\u001b[39m  (26): X2, X3, X4, X31, X102, X103, X104, X105, X106, X107, X108, X109, ...\n",
      "\u001b[32mdbl\u001b[39m (102): X1, X5, X6, X7, X8, X9, X10, X11, X12, X13, X14, X15, X16, X17, X...\n",
      "\n",
      "\u001b[36mℹ\u001b[39m Use `spec()` to retrieve the full column specification for this data.\n",
      "\u001b[36mℹ\u001b[39m Specify the column types or set `show_col_types = FALSE` to quiet this message.\n"
     ]
    },
    {
     "data": {
      "text/html": [
       "<table class=\"dataframe\">\n",
       "<caption>A tibble: 6 × 128</caption>\n",
       "<thead>\n",
       "\t<tr><th scope=col>X1</th><th scope=col>X2</th><th scope=col>X3</th><th scope=col>X4</th><th scope=col>X5</th><th scope=col>X6</th><th scope=col>X7</th><th scope=col>X8</th><th scope=col>X9</th><th scope=col>X10</th><th scope=col>⋯</th><th scope=col>X119</th><th scope=col>X120</th><th scope=col>X121</th><th scope=col>X122</th><th scope=col>X123</th><th scope=col>X124</th><th scope=col>X125</th><th scope=col>X126</th><th scope=col>X127</th><th scope=col>X128</th></tr>\n",
       "\t<tr><th scope=col>&lt;dbl&gt;</th><th scope=col>&lt;chr&gt;</th><th scope=col>&lt;chr&gt;</th><th scope=col>&lt;chr&gt;</th><th scope=col>&lt;dbl&gt;</th><th scope=col>&lt;dbl&gt;</th><th scope=col>&lt;dbl&gt;</th><th scope=col>&lt;dbl&gt;</th><th scope=col>&lt;dbl&gt;</th><th scope=col>&lt;dbl&gt;</th><th scope=col>⋯</th><th scope=col>&lt;dbl&gt;</th><th scope=col>&lt;dbl&gt;</th><th scope=col>&lt;dbl&gt;</th><th scope=col>&lt;chr&gt;</th><th scope=col>&lt;chr&gt;</th><th scope=col>&lt;chr&gt;</th><th scope=col>&lt;chr&gt;</th><th scope=col>&lt;dbl&gt;</th><th scope=col>&lt;chr&gt;</th><th scope=col>&lt;dbl&gt;</th></tr>\n",
       "</thead>\n",
       "<tbody>\n",
       "\t<tr><td> 8</td><td>? </td><td>?    </td><td>Lakewoodcity       </td><td>1</td><td>0.19</td><td>0.33</td><td>0.02</td><td>0.90</td><td>0.12</td><td>⋯</td><td>0.12</td><td>0.26</td><td>0.20</td><td>0.06</td><td>0.04</td><td>0.9</td><td>0.5</td><td>0.32</td><td>0.14</td><td>0.20</td></tr>\n",
       "\t<tr><td>53</td><td>? </td><td>?    </td><td>Tukwilacity        </td><td>1</td><td>0.00</td><td>0.16</td><td>0.12</td><td>0.74</td><td>0.45</td><td>⋯</td><td>0.02</td><td>0.12</td><td>0.45</td><td>?   </td><td>?   </td><td>?  </td><td>?  </td><td>0.00</td><td>?   </td><td>0.67</td></tr>\n",
       "\t<tr><td>24</td><td>? </td><td>?    </td><td>Aberdeentown       </td><td>1</td><td>0.00</td><td>0.42</td><td>0.49</td><td>0.56</td><td>0.17</td><td>⋯</td><td>0.01</td><td>0.21</td><td>0.02</td><td>?   </td><td>?   </td><td>?  </td><td>?  </td><td>0.00</td><td>?   </td><td>0.43</td></tr>\n",
       "\t<tr><td>34</td><td>5 </td><td>81440</td><td>Willingborotownship</td><td>1</td><td>0.04</td><td>0.77</td><td>1.00</td><td>0.08</td><td>0.12</td><td>⋯</td><td>0.02</td><td>0.39</td><td>0.28</td><td>?   </td><td>?   </td><td>?  </td><td>?  </td><td>0.00</td><td>?   </td><td>0.12</td></tr>\n",
       "\t<tr><td>42</td><td>95</td><td>6096 </td><td>Bethlehemtownship  </td><td>1</td><td>0.01</td><td>0.55</td><td>0.02</td><td>0.95</td><td>0.09</td><td>⋯</td><td>0.04</td><td>0.09</td><td>0.02</td><td>?   </td><td>?   </td><td>?  </td><td>?  </td><td>0.00</td><td>?   </td><td>0.03</td></tr>\n",
       "\t<tr><td> 6</td><td>? </td><td>?    </td><td>SouthPasadenacity  </td><td>1</td><td>0.02</td><td>0.28</td><td>0.06</td><td>0.54</td><td>1.00</td><td>⋯</td><td>0.01</td><td>0.58</td><td>0.10</td><td>?   </td><td>?   </td><td>?  </td><td>?  </td><td>0.00</td><td>?   </td><td>0.14</td></tr>\n",
       "</tbody>\n",
       "</table>\n"
      ],
      "text/latex": [
       "A tibble: 6 × 128\n",
       "\\begin{tabular}{lllllllllllllllllllll}\n",
       " X1 & X2 & X3 & X4 & X5 & X6 & X7 & X8 & X9 & X10 & ⋯ & X119 & X120 & X121 & X122 & X123 & X124 & X125 & X126 & X127 & X128\\\\\n",
       " <dbl> & <chr> & <chr> & <chr> & <dbl> & <dbl> & <dbl> & <dbl> & <dbl> & <dbl> & ⋯ & <dbl> & <dbl> & <dbl> & <chr> & <chr> & <chr> & <chr> & <dbl> & <chr> & <dbl>\\\\\n",
       "\\hline\n",
       "\t  8 & ?  & ?     & Lakewoodcity        & 1 & 0.19 & 0.33 & 0.02 & 0.90 & 0.12 & ⋯ & 0.12 & 0.26 & 0.20 & 0.06 & 0.04 & 0.9 & 0.5 & 0.32 & 0.14 & 0.20\\\\\n",
       "\t 53 & ?  & ?     & Tukwilacity         & 1 & 0.00 & 0.16 & 0.12 & 0.74 & 0.45 & ⋯ & 0.02 & 0.12 & 0.45 & ?    & ?    & ?   & ?   & 0.00 & ?    & 0.67\\\\\n",
       "\t 24 & ?  & ?     & Aberdeentown        & 1 & 0.00 & 0.42 & 0.49 & 0.56 & 0.17 & ⋯ & 0.01 & 0.21 & 0.02 & ?    & ?    & ?   & ?   & 0.00 & ?    & 0.43\\\\\n",
       "\t 34 & 5  & 81440 & Willingborotownship & 1 & 0.04 & 0.77 & 1.00 & 0.08 & 0.12 & ⋯ & 0.02 & 0.39 & 0.28 & ?    & ?    & ?   & ?   & 0.00 & ?    & 0.12\\\\\n",
       "\t 42 & 95 & 6096  & Bethlehemtownship   & 1 & 0.01 & 0.55 & 0.02 & 0.95 & 0.09 & ⋯ & 0.04 & 0.09 & 0.02 & ?    & ?    & ?   & ?   & 0.00 & ?    & 0.03\\\\\n",
       "\t  6 & ?  & ?     & SouthPasadenacity   & 1 & 0.02 & 0.28 & 0.06 & 0.54 & 1.00 & ⋯ & 0.01 & 0.58 & 0.10 & ?    & ?    & ?   & ?   & 0.00 & ?    & 0.14\\\\\n",
       "\\end{tabular}\n"
      ],
      "text/markdown": [
       "\n",
       "A tibble: 6 × 128\n",
       "\n",
       "| X1 &lt;dbl&gt; | X2 &lt;chr&gt; | X3 &lt;chr&gt; | X4 &lt;chr&gt; | X5 &lt;dbl&gt; | X6 &lt;dbl&gt; | X7 &lt;dbl&gt; | X8 &lt;dbl&gt; | X9 &lt;dbl&gt; | X10 &lt;dbl&gt; | ⋯ ⋯ | X119 &lt;dbl&gt; | X120 &lt;dbl&gt; | X121 &lt;dbl&gt; | X122 &lt;chr&gt; | X123 &lt;chr&gt; | X124 &lt;chr&gt; | X125 &lt;chr&gt; | X126 &lt;dbl&gt; | X127 &lt;chr&gt; | X128 &lt;dbl&gt; |\n",
       "|---|---|---|---|---|---|---|---|---|---|---|---|---|---|---|---|---|---|---|---|---|\n",
       "|  8 | ?  | ?     | Lakewoodcity        | 1 | 0.19 | 0.33 | 0.02 | 0.90 | 0.12 | ⋯ | 0.12 | 0.26 | 0.20 | 0.06 | 0.04 | 0.9 | 0.5 | 0.32 | 0.14 | 0.20 |\n",
       "| 53 | ?  | ?     | Tukwilacity         | 1 | 0.00 | 0.16 | 0.12 | 0.74 | 0.45 | ⋯ | 0.02 | 0.12 | 0.45 | ?    | ?    | ?   | ?   | 0.00 | ?    | 0.67 |\n",
       "| 24 | ?  | ?     | Aberdeentown        | 1 | 0.00 | 0.42 | 0.49 | 0.56 | 0.17 | ⋯ | 0.01 | 0.21 | 0.02 | ?    | ?    | ?   | ?   | 0.00 | ?    | 0.43 |\n",
       "| 34 | 5  | 81440 | Willingborotownship | 1 | 0.04 | 0.77 | 1.00 | 0.08 | 0.12 | ⋯ | 0.02 | 0.39 | 0.28 | ?    | ?    | ?   | ?   | 0.00 | ?    | 0.12 |\n",
       "| 42 | 95 | 6096  | Bethlehemtownship   | 1 | 0.01 | 0.55 | 0.02 | 0.95 | 0.09 | ⋯ | 0.04 | 0.09 | 0.02 | ?    | ?    | ?   | ?   | 0.00 | ?    | 0.03 |\n",
       "|  6 | ?  | ?     | SouthPasadenacity   | 1 | 0.02 | 0.28 | 0.06 | 0.54 | 1.00 | ⋯ | 0.01 | 0.58 | 0.10 | ?    | ?    | ?   | ?   | 0.00 | ?    | 0.14 |\n",
       "\n"
      ],
      "text/plain": [
       "  X1 X2 X3    X4                  X5 X6   X7   X8   X9   X10  ⋯ X119 X120 X121\n",
       "1  8 ?  ?     Lakewoodcity        1  0.19 0.33 0.02 0.90 0.12 ⋯ 0.12 0.26 0.20\n",
       "2 53 ?  ?     Tukwilacity         1  0.00 0.16 0.12 0.74 0.45 ⋯ 0.02 0.12 0.45\n",
       "3 24 ?  ?     Aberdeentown        1  0.00 0.42 0.49 0.56 0.17 ⋯ 0.01 0.21 0.02\n",
       "4 34 5  81440 Willingborotownship 1  0.04 0.77 1.00 0.08 0.12 ⋯ 0.02 0.39 0.28\n",
       "5 42 95 6096  Bethlehemtownship   1  0.01 0.55 0.02 0.95 0.09 ⋯ 0.04 0.09 0.02\n",
       "6  6 ?  ?     SouthPasadenacity   1  0.02 0.28 0.06 0.54 1.00 ⋯ 0.01 0.58 0.10\n",
       "  X122 X123 X124 X125 X126 X127 X128\n",
       "1 0.06 0.04 0.9  0.5  0.32 0.14 0.20\n",
       "2 ?    ?    ?    ?    0.00 ?    0.67\n",
       "3 ?    ?    ?    ?    0.00 ?    0.43\n",
       "4 ?    ?    ?    ?    0.00 ?    0.12\n",
       "5 ?    ?    ?    ?    0.00 ?    0.03\n",
       "6 ?    ?    ?    ?    0.00 ?    0.14"
      ]
     },
     "metadata": {},
     "output_type": "display_data"
    },
    {
     "data": {
      "text/html": [
       "<table class=\"dataframe\">\n",
       "<caption>A tibble: 6 × 11</caption>\n",
       "<thead>\n",
       "\t<tr><th scope=col>state</th><th scope=col>population_for_community</th><th scope=col>pct_of_16t24</th><th scope=col>pct_of_people_in_urban</th><th scope=col>per_capita_income</th><th scope=col>pct_of_people_in_povety</th><th scope=col>pct_of_people_not_high_school_graduates</th><th scope=col>pct_of_people_unemployed</th><th scope=col>pct_of_population_divorced</th><th scope=col>mean_number_of_people_per_family</th><th scope=col>total_crime_per_100K_popuation</th></tr>\n",
       "\t<tr><th scope=col>&lt;dbl&gt;</th><th scope=col>&lt;dbl&gt;</th><th scope=col>&lt;dbl&gt;</th><th scope=col>&lt;dbl&gt;</th><th scope=col>&lt;dbl&gt;</th><th scope=col>&lt;dbl&gt;</th><th scope=col>&lt;dbl&gt;</th><th scope=col>&lt;dbl&gt;</th><th scope=col>&lt;dbl&gt;</th><th scope=col>&lt;dbl&gt;</th><th scope=col>&lt;dbl&gt;</th></tr>\n",
       "</thead>\n",
       "<tbody>\n",
       "\t<tr><td> 8</td><td>0.19</td><td>0.29</td><td>1.0</td><td>0.40</td><td>0.19</td><td>0.18</td><td>0.27</td><td>0.75</td><td>0.35</td><td>0.20</td></tr>\n",
       "\t<tr><td>53</td><td>0.00</td><td>0.35</td><td>1.0</td><td>0.37</td><td>0.24</td><td>0.24</td><td>0.27</td><td>1.00</td><td>0.29</td><td>0.67</td></tr>\n",
       "\t<tr><td>24</td><td>0.00</td><td>0.28</td><td>0.0</td><td>0.27</td><td>0.27</td><td>0.43</td><td>0.36</td><td>0.70</td><td>0.45</td><td>0.43</td></tr>\n",
       "\t<tr><td>34</td><td>0.04</td><td>0.34</td><td>1.0</td><td>0.36</td><td>0.10</td><td>0.25</td><td>0.33</td><td>0.44</td><td>0.75</td><td>0.12</td></tr>\n",
       "\t<tr><td>42</td><td>0.01</td><td>0.23</td><td>0.9</td><td>0.43</td><td>0.06</td><td>0.30</td><td>0.12</td><td>0.21</td><td>0.51</td><td>0.03</td></tr>\n",
       "\t<tr><td> 6</td><td>0.02</td><td>0.27</td><td>1.0</td><td>0.72</td><td>0.12</td><td>0.12</td><td>0.10</td><td>0.58</td><td>0.44</td><td>0.14</td></tr>\n",
       "</tbody>\n",
       "</table>\n"
      ],
      "text/latex": [
       "A tibble: 6 × 11\n",
       "\\begin{tabular}{lllllllllll}\n",
       " state & population\\_for\\_community & pct\\_of\\_16t24 & pct\\_of\\_people\\_in\\_urban & per\\_capita\\_income & pct\\_of\\_people\\_in\\_povety & pct\\_of\\_people\\_not\\_high\\_school\\_graduates & pct\\_of\\_people\\_unemployed & pct\\_of\\_population\\_divorced & mean\\_number\\_of\\_people\\_per\\_family & total\\_crime\\_per\\_100K\\_popuation\\\\\n",
       " <dbl> & <dbl> & <dbl> & <dbl> & <dbl> & <dbl> & <dbl> & <dbl> & <dbl> & <dbl> & <dbl>\\\\\n",
       "\\hline\n",
       "\t  8 & 0.19 & 0.29 & 1.0 & 0.40 & 0.19 & 0.18 & 0.27 & 0.75 & 0.35 & 0.20\\\\\n",
       "\t 53 & 0.00 & 0.35 & 1.0 & 0.37 & 0.24 & 0.24 & 0.27 & 1.00 & 0.29 & 0.67\\\\\n",
       "\t 24 & 0.00 & 0.28 & 0.0 & 0.27 & 0.27 & 0.43 & 0.36 & 0.70 & 0.45 & 0.43\\\\\n",
       "\t 34 & 0.04 & 0.34 & 1.0 & 0.36 & 0.10 & 0.25 & 0.33 & 0.44 & 0.75 & 0.12\\\\\n",
       "\t 42 & 0.01 & 0.23 & 0.9 & 0.43 & 0.06 & 0.30 & 0.12 & 0.21 & 0.51 & 0.03\\\\\n",
       "\t  6 & 0.02 & 0.27 & 1.0 & 0.72 & 0.12 & 0.12 & 0.10 & 0.58 & 0.44 & 0.14\\\\\n",
       "\\end{tabular}\n"
      ],
      "text/markdown": [
       "\n",
       "A tibble: 6 × 11\n",
       "\n",
       "| state &lt;dbl&gt; | population_for_community &lt;dbl&gt; | pct_of_16t24 &lt;dbl&gt; | pct_of_people_in_urban &lt;dbl&gt; | per_capita_income &lt;dbl&gt; | pct_of_people_in_povety &lt;dbl&gt; | pct_of_people_not_high_school_graduates &lt;dbl&gt; | pct_of_people_unemployed &lt;dbl&gt; | pct_of_population_divorced &lt;dbl&gt; | mean_number_of_people_per_family &lt;dbl&gt; | total_crime_per_100K_popuation &lt;dbl&gt; |\n",
       "|---|---|---|---|---|---|---|---|---|---|---|\n",
       "|  8 | 0.19 | 0.29 | 1.0 | 0.40 | 0.19 | 0.18 | 0.27 | 0.75 | 0.35 | 0.20 |\n",
       "| 53 | 0.00 | 0.35 | 1.0 | 0.37 | 0.24 | 0.24 | 0.27 | 1.00 | 0.29 | 0.67 |\n",
       "| 24 | 0.00 | 0.28 | 0.0 | 0.27 | 0.27 | 0.43 | 0.36 | 0.70 | 0.45 | 0.43 |\n",
       "| 34 | 0.04 | 0.34 | 1.0 | 0.36 | 0.10 | 0.25 | 0.33 | 0.44 | 0.75 | 0.12 |\n",
       "| 42 | 0.01 | 0.23 | 0.9 | 0.43 | 0.06 | 0.30 | 0.12 | 0.21 | 0.51 | 0.03 |\n",
       "|  6 | 0.02 | 0.27 | 1.0 | 0.72 | 0.12 | 0.12 | 0.10 | 0.58 | 0.44 | 0.14 |\n",
       "\n"
      ],
      "text/plain": [
       "  state population_for_community pct_of_16t24 pct_of_people_in_urban\n",
       "1  8    0.19                     0.29         1.0                   \n",
       "2 53    0.00                     0.35         1.0                   \n",
       "3 24    0.00                     0.28         0.0                   \n",
       "4 34    0.04                     0.34         1.0                   \n",
       "5 42    0.01                     0.23         0.9                   \n",
       "6  6    0.02                     0.27         1.0                   \n",
       "  per_capita_income pct_of_people_in_povety\n",
       "1 0.40              0.19                   \n",
       "2 0.37              0.24                   \n",
       "3 0.27              0.27                   \n",
       "4 0.36              0.10                   \n",
       "5 0.43              0.06                   \n",
       "6 0.72              0.12                   \n",
       "  pct_of_people_not_high_school_graduates pct_of_people_unemployed\n",
       "1 0.18                                    0.27                    \n",
       "2 0.24                                    0.27                    \n",
       "3 0.43                                    0.36                    \n",
       "4 0.25                                    0.33                    \n",
       "5 0.30                                    0.12                    \n",
       "6 0.12                                    0.10                    \n",
       "  pct_of_population_divorced mean_number_of_people_per_family\n",
       "1 0.75                       0.35                            \n",
       "2 1.00                       0.29                            \n",
       "3 0.70                       0.45                            \n",
       "4 0.44                       0.75                            \n",
       "5 0.21                       0.51                            \n",
       "6 0.58                       0.44                            \n",
       "  total_crime_per_100K_popuation\n",
       "1 0.20                          \n",
       "2 0.67                          \n",
       "3 0.43                          \n",
       "4 0.12                          \n",
       "5 0.03                          \n",
       "6 0.14                          "
      ]
     },
     "metadata": {},
     "output_type": "display_data"
    },
    {
     "data": {
      "text/html": [
       "<table class=\"dataframe\">\n",
       "<caption>A tibble: 6 × 11</caption>\n",
       "<thead>\n",
       "\t<tr><th scope=col>state</th><th scope=col>population_for_community</th><th scope=col>pct_of_16t24</th><th scope=col>pct_of_people_in_urban</th><th scope=col>per_capita_income</th><th scope=col>pct_of_people_in_povety</th><th scope=col>pct_of_people_not_high_school_graduates</th><th scope=col>pct_of_people_unemployed</th><th scope=col>pct_of_population_divorced</th><th scope=col>mean_number_of_people_per_family</th><th scope=col>total_crime_per_100K_popuation</th></tr>\n",
       "\t<tr><th scope=col>&lt;dbl&gt;</th><th scope=col>&lt;dbl&gt;</th><th scope=col>&lt;dbl&gt;</th><th scope=col>&lt;dbl&gt;</th><th scope=col>&lt;dbl&gt;</th><th scope=col>&lt;dbl&gt;</th><th scope=col>&lt;dbl&gt;</th><th scope=col>&lt;dbl&gt;</th><th scope=col>&lt;dbl&gt;</th><th scope=col>&lt;dbl&gt;</th><th scope=col>&lt;dbl&gt;</th></tr>\n",
       "</thead>\n",
       "<tbody>\n",
       "\t<tr><td>28</td><td>0.02</td><td>0.43</td><td>0</td><td>0.17</td><td>0.76</td><td>0.62</td><td>0.61</td><td>0.64</td><td>0.53</td><td>0.19</td></tr>\n",
       "\t<tr><td>12</td><td>0.01</td><td>0.35</td><td>1</td><td>0.49</td><td>0.16</td><td>0.11</td><td>0.12</td><td>0.53</td><td>0.35</td><td>0.09</td></tr>\n",
       "\t<tr><td> 6</td><td>0.05</td><td>0.73</td><td>1</td><td>0.18</td><td>0.32</td><td>0.37</td><td>0.24</td><td>0.48</td><td>0.71</td><td>0.45</td></tr>\n",
       "\t<tr><td> 9</td><td>0.16</td><td>0.31</td><td>1</td><td>0.31</td><td>0.31</td><td>0.58</td><td>0.50</td><td>0.52</td><td>0.47</td><td>0.23</td></tr>\n",
       "\t<tr><td>25</td><td>0.08</td><td>0.63</td><td>1</td><td>0.40</td><td>0.16</td><td>0.35</td><td>0.37</td><td>0.32</td><td>0.46</td><td>0.19</td></tr>\n",
       "\t<tr><td> 6</td><td>0.20</td><td>0.40</td><td>1</td><td>0.24</td><td>0.35</td><td>0.55</td><td>0.47</td><td>0.57</td><td>0.86</td><td>0.48</td></tr>\n",
       "</tbody>\n",
       "</table>\n"
      ],
      "text/latex": [
       "A tibble: 6 × 11\n",
       "\\begin{tabular}{lllllllllll}\n",
       " state & population\\_for\\_community & pct\\_of\\_16t24 & pct\\_of\\_people\\_in\\_urban & per\\_capita\\_income & pct\\_of\\_people\\_in\\_povety & pct\\_of\\_people\\_not\\_high\\_school\\_graduates & pct\\_of\\_people\\_unemployed & pct\\_of\\_population\\_divorced & mean\\_number\\_of\\_people\\_per\\_family & total\\_crime\\_per\\_100K\\_popuation\\\\\n",
       " <dbl> & <dbl> & <dbl> & <dbl> & <dbl> & <dbl> & <dbl> & <dbl> & <dbl> & <dbl> & <dbl>\\\\\n",
       "\\hline\n",
       "\t 28 & 0.02 & 0.43 & 0 & 0.17 & 0.76 & 0.62 & 0.61 & 0.64 & 0.53 & 0.19\\\\\n",
       "\t 12 & 0.01 & 0.35 & 1 & 0.49 & 0.16 & 0.11 & 0.12 & 0.53 & 0.35 & 0.09\\\\\n",
       "\t  6 & 0.05 & 0.73 & 1 & 0.18 & 0.32 & 0.37 & 0.24 & 0.48 & 0.71 & 0.45\\\\\n",
       "\t  9 & 0.16 & 0.31 & 1 & 0.31 & 0.31 & 0.58 & 0.50 & 0.52 & 0.47 & 0.23\\\\\n",
       "\t 25 & 0.08 & 0.63 & 1 & 0.40 & 0.16 & 0.35 & 0.37 & 0.32 & 0.46 & 0.19\\\\\n",
       "\t  6 & 0.20 & 0.40 & 1 & 0.24 & 0.35 & 0.55 & 0.47 & 0.57 & 0.86 & 0.48\\\\\n",
       "\\end{tabular}\n"
      ],
      "text/markdown": [
       "\n",
       "A tibble: 6 × 11\n",
       "\n",
       "| state &lt;dbl&gt; | population_for_community &lt;dbl&gt; | pct_of_16t24 &lt;dbl&gt; | pct_of_people_in_urban &lt;dbl&gt; | per_capita_income &lt;dbl&gt; | pct_of_people_in_povety &lt;dbl&gt; | pct_of_people_not_high_school_graduates &lt;dbl&gt; | pct_of_people_unemployed &lt;dbl&gt; | pct_of_population_divorced &lt;dbl&gt; | mean_number_of_people_per_family &lt;dbl&gt; | total_crime_per_100K_popuation &lt;dbl&gt; |\n",
       "|---|---|---|---|---|---|---|---|---|---|---|\n",
       "| 28 | 0.02 | 0.43 | 0 | 0.17 | 0.76 | 0.62 | 0.61 | 0.64 | 0.53 | 0.19 |\n",
       "| 12 | 0.01 | 0.35 | 1 | 0.49 | 0.16 | 0.11 | 0.12 | 0.53 | 0.35 | 0.09 |\n",
       "|  6 | 0.05 | 0.73 | 1 | 0.18 | 0.32 | 0.37 | 0.24 | 0.48 | 0.71 | 0.45 |\n",
       "|  9 | 0.16 | 0.31 | 1 | 0.31 | 0.31 | 0.58 | 0.50 | 0.52 | 0.47 | 0.23 |\n",
       "| 25 | 0.08 | 0.63 | 1 | 0.40 | 0.16 | 0.35 | 0.37 | 0.32 | 0.46 | 0.19 |\n",
       "|  6 | 0.20 | 0.40 | 1 | 0.24 | 0.35 | 0.55 | 0.47 | 0.57 | 0.86 | 0.48 |\n",
       "\n"
      ],
      "text/plain": [
       "  state population_for_community pct_of_16t24 pct_of_people_in_urban\n",
       "1 28    0.02                     0.43         0                     \n",
       "2 12    0.01                     0.35         1                     \n",
       "3  6    0.05                     0.73         1                     \n",
       "4  9    0.16                     0.31         1                     \n",
       "5 25    0.08                     0.63         1                     \n",
       "6  6    0.20                     0.40         1                     \n",
       "  per_capita_income pct_of_people_in_povety\n",
       "1 0.17              0.76                   \n",
       "2 0.49              0.16                   \n",
       "3 0.18              0.32                   \n",
       "4 0.31              0.31                   \n",
       "5 0.40              0.16                   \n",
       "6 0.24              0.35                   \n",
       "  pct_of_people_not_high_school_graduates pct_of_people_unemployed\n",
       "1 0.62                                    0.61                    \n",
       "2 0.11                                    0.12                    \n",
       "3 0.37                                    0.24                    \n",
       "4 0.58                                    0.50                    \n",
       "5 0.35                                    0.37                    \n",
       "6 0.55                                    0.47                    \n",
       "  pct_of_population_divorced mean_number_of_people_per_family\n",
       "1 0.64                       0.53                            \n",
       "2 0.53                       0.35                            \n",
       "3 0.48                       0.71                            \n",
       "4 0.52                       0.47                            \n",
       "5 0.32                       0.46                            \n",
       "6 0.57                       0.86                            \n",
       "  total_crime_per_100K_popuation\n",
       "1 0.19                          \n",
       "2 0.09                          \n",
       "3 0.45                          \n",
       "4 0.23                          \n",
       "5 0.19                          \n",
       "6 0.48                          "
      ]
     },
     "metadata": {},
     "output_type": "display_data"
    },
    {
     "data": {
      "text/html": [
       "1994"
      ],
      "text/latex": [
       "1994"
      ],
      "text/markdown": [
       "1994"
      ],
      "text/plain": [
       "[1] 1994"
      ]
     },
     "metadata": {},
     "output_type": "display_data"
    }
   ],
   "source": [
    "set.seed(4)\n",
    "crime_data <- read_csv(\"data/communities.data\", col_names = FALSE)\n",
    "head(crime_data)\n",
    "\n",
    "crime <- crime_data %>%\n",
    "  select(X1,X6,X14,X17,X26,X34,X36,X38,X47,X48,X128)%>%\n",
    "  rename(state = X1,\n",
    "         population_for_community = X6,\n",
    "         pct_of_16t24 = X14,\n",
    "         pct_of_people_in_urban = X17,\n",
    "         per_capita_income = X26,\n",
    "         pct_of_people_in_povety = X34,\n",
    "         pct_of_people_not_high_school_graduates = X36,\n",
    "         pct_of_people_unemployed = X38,\n",
    "         pct_of_population_divorced = X47,\n",
    "         mean_number_of_people_per_family = X48,\n",
    "         total_crime_per_100K_popuation = X128)\n",
    "head(crime)\n",
    "tail(crime)\n",
    "nrow(crime)"
   ]
  },
  {
   "cell_type": "code",
   "execution_count": null,
   "id": "fcd87e38-5ca8-4542-97fc-c606a060bd8a",
   "metadata": {},
   "outputs": [],
   "source": []
  }
 ],
 "metadata": {
  "kernelspec": {
   "display_name": "R",
   "language": "R",
   "name": "ir"
  },
  "language_info": {
   "codemirror_mode": "r",
   "file_extension": ".r",
   "mimetype": "text/x-r-source",
   "name": "R",
   "pygments_lexer": "r",
   "version": "4.1.3"
  }
 },
 "nbformat": 4,
 "nbformat_minor": 5
}
