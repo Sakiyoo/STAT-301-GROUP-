{
 "cells": [
  {
   "cell_type": "markdown",
   "id": "c393c9bd-4a07-4eb4-a6ae-d8e0f8f857bc",
   "metadata": {},
   "source": [
    "#  Investigation on factors associated with violent crime numbers and predictive model for total number of violent crime "
   ]
  },
  {
   "cell_type": "markdown",
   "id": "df7a9d4e-554c-4e08-9832-85984f0ace8d",
   "metadata": {},
   "source": [
    "**Group member:&nbsp;&nbsp; Emily Ahn &nbsp; &nbsp; Xiaoran Fan &nbsp; &nbsp; Vicky Lin &nbsp; &nbsp; Chunyu Zhang**      "
   ]
  },
  {
   "cell_type": "markdown",
   "id": "65f8b627-9ba2-435a-a914-443f0126b9c2",
   "metadata": {},
   "source": [
    "## Introduction"
   ]
  },
  {
   "cell_type": "markdown",
   "id": "710a9a1e-2171-48e9-aeba-b3973294185b",
   "metadata": {},
   "source": [
    "Nowadays, crime has become a severe problem around the world and is increasing in our society, making people feel anxious and unsafe all the time. Research showed many young people from US and Canadian colleges expressed being fearful of crime on and off campus (Leah E Daigle et al, 2021), which arises people’s thinking on the factors related to committing a crime. According to National Research Council (2008), factors such as the state of economic opportunity, demographic groups and etc. may have a relationship with crime. Therefore, we decided to use the Communities and Crime Data Set acquired from UCI Machine Learning Repository by Michael Redmond to examine both the inference and predictive question: **For one specific state in US, California, among the factors of population density, young age rate, urbanization, income, poverty, education, unemployment, divorce rate and the number of people in a family, which ones are associated with a total crime number, and what variables can build up the best model to predict the total crime number?**\n",
    " \n",
    " \n",
    "Our data set includes real data from socio-economic data from the 1990 US Census, law enforcement data from the 1990 US LEMAS survey, and crime data from the 1995 FBI UCR. This dataset contains a total number of 128 attributes and 1994 instances. In our study, we will focus on one specific state in US, California, therefore we will use 278 instances of the data (which are instances of California). Also, we will not use all of the variables in the dataset but chose 11 variables we are interested to study (10 explanatory variables and 1 response variable). In this study, our focus is both inference and predictive, and we will use the linear regression model to study both of them."
   ]
  },
  {
   "cell_type": "markdown",
   "id": "cb57c674-e71e-4ce7-882b-fd38943b2532",
   "metadata": {},
   "source": [
    "## Preliminary Results"
   ]
  },
  {
   "cell_type": "code",
   "execution_count": 1,
   "id": "1458e17a-53e4-476e-8556-c9ca858ce74c",
   "metadata": {},
   "outputs": [
    {
     "name": "stderr",
     "output_type": "stream",
     "text": [
      "Warning message in system(\"timedatectl\", intern = TRUE):\n",
      "“running command 'timedatectl' had status 1”\n",
      "── \u001b[1mAttaching packages\u001b[22m ─────────────────────────────────────── tidyverse 1.3.2 ──\n",
      "\u001b[32m✔\u001b[39m \u001b[34mggplot2\u001b[39m 3.3.6     \u001b[32m✔\u001b[39m \u001b[34mpurrr  \u001b[39m 0.3.4\n",
      "\u001b[32m✔\u001b[39m \u001b[34mtibble \u001b[39m 3.1.8     \u001b[32m✔\u001b[39m \u001b[34mdplyr  \u001b[39m 1.0.9\n",
      "\u001b[32m✔\u001b[39m \u001b[34mtidyr  \u001b[39m 1.2.0     \u001b[32m✔\u001b[39m \u001b[34mstringr\u001b[39m 1.4.1\n",
      "\u001b[32m✔\u001b[39m \u001b[34mreadr  \u001b[39m 2.1.2     \u001b[32m✔\u001b[39m \u001b[34mforcats\u001b[39m 0.5.2\n",
      "── \u001b[1mConflicts\u001b[22m ────────────────────────────────────────── tidyverse_conflicts() ──\n",
      "\u001b[31m✖\u001b[39m \u001b[34mdplyr\u001b[39m::\u001b[32mfilter()\u001b[39m masks \u001b[34mstats\u001b[39m::filter()\n",
      "\u001b[31m✖\u001b[39m \u001b[34mdplyr\u001b[39m::\u001b[32mlag()\u001b[39m    masks \u001b[34mstats\u001b[39m::lag()\n"
     ]
    },
    {
     "ename": "ERROR",
     "evalue": "Error in library(cowplot): there is no package called ‘cowplot’\n",
     "output_type": "error",
     "traceback": [
      "Error in library(cowplot): there is no package called ‘cowplot’\nTraceback:\n",
      "1. library(cowplot)"
     ]
    }
   ],
   "source": [
    "library(tidyverse)\n",
    "library(repr)\n",
    "library(readxl)\n",
    "library(infer)\n",
    "library(cowplot)\n",
    "library(GGally)\n",
    "library(broom)"
   ]
  },
  {
   "cell_type": "markdown",
   "id": "f6e44fde-31b6-433b-9693-1bf34b615376",
   "metadata": {},
   "source": [
    "### Load Data\n",
    "\n",
    "We first read the `communities.data` in data file and named it `crime_data`. "
   ]
  },
  {
   "cell_type": "code",
   "execution_count": 2,
   "id": "cb40fc09-cee0-42de-9da3-4c476aff8b92",
   "metadata": {},
   "outputs": [
    {
     "name": "stderr",
     "output_type": "stream",
     "text": [
      "\u001b[1mRows: \u001b[22m\u001b[34m1994\u001b[39m \u001b[1mColumns: \u001b[22m\u001b[34m128\u001b[39m\n",
      "\u001b[36m──\u001b[39m \u001b[1mColumn specification\u001b[22m \u001b[36m────────────────────────────────────────────────────────\u001b[39m\n",
      "\u001b[1mDelimiter:\u001b[22m \",\"\n",
      "\u001b[31mchr\u001b[39m  (26): X2, X3, X4, X31, X102, X103, X104, X105, X106, X107, X108, X109, ...\n",
      "\u001b[32mdbl\u001b[39m (102): X1, X5, X6, X7, X8, X9, X10, X11, X12, X13, X14, X15, X16, X17, X...\n",
      "\n",
      "\u001b[36mℹ\u001b[39m Use `spec()` to retrieve the full column specification for this data.\n",
      "\u001b[36mℹ\u001b[39m Specify the column types or set `show_col_types = FALSE` to quiet this message.\n"
     ]
    },
    {
     "data": {
      "text/html": [
       "<table class=\"dataframe\">\n",
       "<caption>A tibble: 6 × 128</caption>\n",
       "<thead>\n",
       "\t<tr><th scope=col>X1</th><th scope=col>X2</th><th scope=col>X3</th><th scope=col>X4</th><th scope=col>X5</th><th scope=col>X6</th><th scope=col>X7</th><th scope=col>X8</th><th scope=col>X9</th><th scope=col>X10</th><th scope=col>⋯</th><th scope=col>X119</th><th scope=col>X120</th><th scope=col>X121</th><th scope=col>X122</th><th scope=col>X123</th><th scope=col>X124</th><th scope=col>X125</th><th scope=col>X126</th><th scope=col>X127</th><th scope=col>X128</th></tr>\n",
       "\t<tr><th scope=col>&lt;dbl&gt;</th><th scope=col>&lt;chr&gt;</th><th scope=col>&lt;chr&gt;</th><th scope=col>&lt;chr&gt;</th><th scope=col>&lt;dbl&gt;</th><th scope=col>&lt;dbl&gt;</th><th scope=col>&lt;dbl&gt;</th><th scope=col>&lt;dbl&gt;</th><th scope=col>&lt;dbl&gt;</th><th scope=col>&lt;dbl&gt;</th><th scope=col>⋯</th><th scope=col>&lt;dbl&gt;</th><th scope=col>&lt;dbl&gt;</th><th scope=col>&lt;dbl&gt;</th><th scope=col>&lt;chr&gt;</th><th scope=col>&lt;chr&gt;</th><th scope=col>&lt;chr&gt;</th><th scope=col>&lt;chr&gt;</th><th scope=col>&lt;dbl&gt;</th><th scope=col>&lt;chr&gt;</th><th scope=col>&lt;dbl&gt;</th></tr>\n",
       "</thead>\n",
       "<tbody>\n",
       "\t<tr><td> 8</td><td>? </td><td>?    </td><td>Lakewoodcity       </td><td>1</td><td>0.19</td><td>0.33</td><td>0.02</td><td>0.90</td><td>0.12</td><td>⋯</td><td>0.12</td><td>0.26</td><td>0.20</td><td>0.06</td><td>0.04</td><td>0.9</td><td>0.5</td><td>0.32</td><td>0.14</td><td>0.20</td></tr>\n",
       "\t<tr><td>53</td><td>? </td><td>?    </td><td>Tukwilacity        </td><td>1</td><td>0.00</td><td>0.16</td><td>0.12</td><td>0.74</td><td>0.45</td><td>⋯</td><td>0.02</td><td>0.12</td><td>0.45</td><td>?   </td><td>?   </td><td>?  </td><td>?  </td><td>0.00</td><td>?   </td><td>0.67</td></tr>\n",
       "\t<tr><td>24</td><td>? </td><td>?    </td><td>Aberdeentown       </td><td>1</td><td>0.00</td><td>0.42</td><td>0.49</td><td>0.56</td><td>0.17</td><td>⋯</td><td>0.01</td><td>0.21</td><td>0.02</td><td>?   </td><td>?   </td><td>?  </td><td>?  </td><td>0.00</td><td>?   </td><td>0.43</td></tr>\n",
       "\t<tr><td>34</td><td>5 </td><td>81440</td><td>Willingborotownship</td><td>1</td><td>0.04</td><td>0.77</td><td>1.00</td><td>0.08</td><td>0.12</td><td>⋯</td><td>0.02</td><td>0.39</td><td>0.28</td><td>?   </td><td>?   </td><td>?  </td><td>?  </td><td>0.00</td><td>?   </td><td>0.12</td></tr>\n",
       "\t<tr><td>42</td><td>95</td><td>6096 </td><td>Bethlehemtownship  </td><td>1</td><td>0.01</td><td>0.55</td><td>0.02</td><td>0.95</td><td>0.09</td><td>⋯</td><td>0.04</td><td>0.09</td><td>0.02</td><td>?   </td><td>?   </td><td>?  </td><td>?  </td><td>0.00</td><td>?   </td><td>0.03</td></tr>\n",
       "\t<tr><td> 6</td><td>? </td><td>?    </td><td>SouthPasadenacity  </td><td>1</td><td>0.02</td><td>0.28</td><td>0.06</td><td>0.54</td><td>1.00</td><td>⋯</td><td>0.01</td><td>0.58</td><td>0.10</td><td>?   </td><td>?   </td><td>?  </td><td>?  </td><td>0.00</td><td>?   </td><td>0.14</td></tr>\n",
       "</tbody>\n",
       "</table>\n"
      ],
      "text/latex": [
       "A tibble: 6 × 128\n",
       "\\begin{tabular}{lllllllllllllllllllll}\n",
       " X1 & X2 & X3 & X4 & X5 & X6 & X7 & X8 & X9 & X10 & ⋯ & X119 & X120 & X121 & X122 & X123 & X124 & X125 & X126 & X127 & X128\\\\\n",
       " <dbl> & <chr> & <chr> & <chr> & <dbl> & <dbl> & <dbl> & <dbl> & <dbl> & <dbl> & ⋯ & <dbl> & <dbl> & <dbl> & <chr> & <chr> & <chr> & <chr> & <dbl> & <chr> & <dbl>\\\\\n",
       "\\hline\n",
       "\t  8 & ?  & ?     & Lakewoodcity        & 1 & 0.19 & 0.33 & 0.02 & 0.90 & 0.12 & ⋯ & 0.12 & 0.26 & 0.20 & 0.06 & 0.04 & 0.9 & 0.5 & 0.32 & 0.14 & 0.20\\\\\n",
       "\t 53 & ?  & ?     & Tukwilacity         & 1 & 0.00 & 0.16 & 0.12 & 0.74 & 0.45 & ⋯ & 0.02 & 0.12 & 0.45 & ?    & ?    & ?   & ?   & 0.00 & ?    & 0.67\\\\\n",
       "\t 24 & ?  & ?     & Aberdeentown        & 1 & 0.00 & 0.42 & 0.49 & 0.56 & 0.17 & ⋯ & 0.01 & 0.21 & 0.02 & ?    & ?    & ?   & ?   & 0.00 & ?    & 0.43\\\\\n",
       "\t 34 & 5  & 81440 & Willingborotownship & 1 & 0.04 & 0.77 & 1.00 & 0.08 & 0.12 & ⋯ & 0.02 & 0.39 & 0.28 & ?    & ?    & ?   & ?   & 0.00 & ?    & 0.12\\\\\n",
       "\t 42 & 95 & 6096  & Bethlehemtownship   & 1 & 0.01 & 0.55 & 0.02 & 0.95 & 0.09 & ⋯ & 0.04 & 0.09 & 0.02 & ?    & ?    & ?   & ?   & 0.00 & ?    & 0.03\\\\\n",
       "\t  6 & ?  & ?     & SouthPasadenacity   & 1 & 0.02 & 0.28 & 0.06 & 0.54 & 1.00 & ⋯ & 0.01 & 0.58 & 0.10 & ?    & ?    & ?   & ?   & 0.00 & ?    & 0.14\\\\\n",
       "\\end{tabular}\n"
      ],
      "text/markdown": [
       "\n",
       "A tibble: 6 × 128\n",
       "\n",
       "| X1 &lt;dbl&gt; | X2 &lt;chr&gt; | X3 &lt;chr&gt; | X4 &lt;chr&gt; | X5 &lt;dbl&gt; | X6 &lt;dbl&gt; | X7 &lt;dbl&gt; | X8 &lt;dbl&gt; | X9 &lt;dbl&gt; | X10 &lt;dbl&gt; | ⋯ ⋯ | X119 &lt;dbl&gt; | X120 &lt;dbl&gt; | X121 &lt;dbl&gt; | X122 &lt;chr&gt; | X123 &lt;chr&gt; | X124 &lt;chr&gt; | X125 &lt;chr&gt; | X126 &lt;dbl&gt; | X127 &lt;chr&gt; | X128 &lt;dbl&gt; |\n",
       "|---|---|---|---|---|---|---|---|---|---|---|---|---|---|---|---|---|---|---|---|---|\n",
       "|  8 | ?  | ?     | Lakewoodcity        | 1 | 0.19 | 0.33 | 0.02 | 0.90 | 0.12 | ⋯ | 0.12 | 0.26 | 0.20 | 0.06 | 0.04 | 0.9 | 0.5 | 0.32 | 0.14 | 0.20 |\n",
       "| 53 | ?  | ?     | Tukwilacity         | 1 | 0.00 | 0.16 | 0.12 | 0.74 | 0.45 | ⋯ | 0.02 | 0.12 | 0.45 | ?    | ?    | ?   | ?   | 0.00 | ?    | 0.67 |\n",
       "| 24 | ?  | ?     | Aberdeentown        | 1 | 0.00 | 0.42 | 0.49 | 0.56 | 0.17 | ⋯ | 0.01 | 0.21 | 0.02 | ?    | ?    | ?   | ?   | 0.00 | ?    | 0.43 |\n",
       "| 34 | 5  | 81440 | Willingborotownship | 1 | 0.04 | 0.77 | 1.00 | 0.08 | 0.12 | ⋯ | 0.02 | 0.39 | 0.28 | ?    | ?    | ?   | ?   | 0.00 | ?    | 0.12 |\n",
       "| 42 | 95 | 6096  | Bethlehemtownship   | 1 | 0.01 | 0.55 | 0.02 | 0.95 | 0.09 | ⋯ | 0.04 | 0.09 | 0.02 | ?    | ?    | ?   | ?   | 0.00 | ?    | 0.03 |\n",
       "|  6 | ?  | ?     | SouthPasadenacity   | 1 | 0.02 | 0.28 | 0.06 | 0.54 | 1.00 | ⋯ | 0.01 | 0.58 | 0.10 | ?    | ?    | ?   | ?   | 0.00 | ?    | 0.14 |\n",
       "\n"
      ],
      "text/plain": [
       "  X1 X2 X3    X4                  X5 X6   X7   X8   X9   X10  ⋯ X119 X120 X121\n",
       "1  8 ?  ?     Lakewoodcity        1  0.19 0.33 0.02 0.90 0.12 ⋯ 0.12 0.26 0.20\n",
       "2 53 ?  ?     Tukwilacity         1  0.00 0.16 0.12 0.74 0.45 ⋯ 0.02 0.12 0.45\n",
       "3 24 ?  ?     Aberdeentown        1  0.00 0.42 0.49 0.56 0.17 ⋯ 0.01 0.21 0.02\n",
       "4 34 5  81440 Willingborotownship 1  0.04 0.77 1.00 0.08 0.12 ⋯ 0.02 0.39 0.28\n",
       "5 42 95 6096  Bethlehemtownship   1  0.01 0.55 0.02 0.95 0.09 ⋯ 0.04 0.09 0.02\n",
       "6  6 ?  ?     SouthPasadenacity   1  0.02 0.28 0.06 0.54 1.00 ⋯ 0.01 0.58 0.10\n",
       "  X122 X123 X124 X125 X126 X127 X128\n",
       "1 0.06 0.04 0.9  0.5  0.32 0.14 0.20\n",
       "2 ?    ?    ?    ?    0.00 ?    0.67\n",
       "3 ?    ?    ?    ?    0.00 ?    0.43\n",
       "4 ?    ?    ?    ?    0.00 ?    0.12\n",
       "5 ?    ?    ?    ?    0.00 ?    0.03\n",
       "6 ?    ?    ?    ?    0.00 ?    0.14"
      ]
     },
     "metadata": {},
     "output_type": "display_data"
    }
   ],
   "source": [
    "set.seed(4)\n",
    "crime_data <- read_csv(\"data/communities.data\", col_names = FALSE)\n",
    "\n",
    "head(crime_data)"
   ]
  },
  {
   "cell_type": "markdown",
   "id": "907765b1-38b7-4f77-ba5f-ac1270cf5a15",
   "metadata": {},
   "source": [
    "### Clean and Wrangle Data\n",
    "\n",
    "We find that, in some of the variables, not all of the values are completely collected, so we select the variables with no missed data.\n",
    "\n",
    "Then we add the descripitions of each data we selected according to the `communities.names` file as follow:\n",
    "\n",
    "- X1 -- `state`: US state (by number) - not counted as predictive above, but if considered, should be consided nominal (nominal)\n",
    "\n",
    "- X6 -- `popComm`: population for community: (numeric - decimal)\n",
    "\n",
    "- X14 -- `agePct16t24`: percentage of population that is 16-24 in age (numeric - decimal)\n",
    "\n",
    "- X17 -- `pctUrban`: percentage of people living in areas classified as urban (numeric - decimal)<br>\n",
    "      (In this variable, we are interested in whether or not there is people living in areas classified as urban, so we decide to change the datatype of this variable to categorical variable. We decide to classify the data with a percentage of 0 as `non-urban`, which means that *no one lives in an urban area*, and we classified the data with a percentage larger than 0 as `urban`, which means that *there are people living in cities*.)\n",
    "\n",
    "- X26 -- `perCapInc`: per capita income (numeric - decimal)\n",
    "\n",
    "- X34 -- `pctUnderPov`: percentage of people under the poverty level (numeric - decimal)\n",
    "\n",
    "- X36 -- `pctNotHSGrad`: percentage of people 25 and over that are not high school graduates (numeric - decimal)\n",
    "\n",
    "- X38 -- `pctUnemployed`: percentage of people 16 and over, in the labor force, and unemployed (numeric - decimal)\n",
    "\n",
    "- X47 -- `pctDiv`: percentage of population who are divorced (numeric - decimal)\n",
    "\n",
    "- X48 -- `meanPerFam`: mean number of people per family (numeric - decimal)\n",
    "\n",
    "- X128 -- `totCrimesPerPop`: total number of violent crimes per 100K popuation (numeric - decimal) GOAL attribute (to be predicted)\n",
    "\n",
    "We call the new dataset `crime` and print the first and last 6 rows in the `crime`.\n",
    "\n",
    "We also count the total number of row in `crime`. (and assume it as the population of our research)?"
   ]
  },
  {
   "cell_type": "code",
   "execution_count": 3,
   "id": "29271435-ca33-44bf-96d5-755383e2d453",
   "metadata": {},
   "outputs": [
    {
     "data": {
      "text/html": [
       "<table class=\"dataframe\">\n",
       "<caption>A tibble: 6 × 11</caption>\n",
       "<thead>\n",
       "\t<tr><th scope=col>state</th><th scope=col>popComm</th><th scope=col>agePct16t24</th><th scope=col>pctUrban</th><th scope=col>perCapInc</th><th scope=col>pctUnderPov</th><th scope=col>pctNotHSGrad</th><th scope=col>pctUnemployed</th><th scope=col>pctDiv</th><th scope=col>meanPerFam</th><th scope=col>totCrimesPerPop</th></tr>\n",
       "\t<tr><th scope=col>&lt;dbl&gt;</th><th scope=col>&lt;dbl&gt;</th><th scope=col>&lt;dbl&gt;</th><th scope=col>&lt;fct&gt;</th><th scope=col>&lt;dbl&gt;</th><th scope=col>&lt;dbl&gt;</th><th scope=col>&lt;dbl&gt;</th><th scope=col>&lt;dbl&gt;</th><th scope=col>&lt;dbl&gt;</th><th scope=col>&lt;dbl&gt;</th><th scope=col>&lt;dbl&gt;</th></tr>\n",
       "</thead>\n",
       "<tbody>\n",
       "\t<tr><td> 8</td><td>0.19</td><td>0.29</td><td>urban    </td><td>0.40</td><td>0.19</td><td>0.18</td><td>0.27</td><td>0.75</td><td>0.35</td><td>0.20</td></tr>\n",
       "\t<tr><td>53</td><td>0.00</td><td>0.35</td><td>urban    </td><td>0.37</td><td>0.24</td><td>0.24</td><td>0.27</td><td>1.00</td><td>0.29</td><td>0.67</td></tr>\n",
       "\t<tr><td>24</td><td>0.00</td><td>0.28</td><td>non-urban</td><td>0.27</td><td>0.27</td><td>0.43</td><td>0.36</td><td>0.70</td><td>0.45</td><td>0.43</td></tr>\n",
       "\t<tr><td>34</td><td>0.04</td><td>0.34</td><td>urban    </td><td>0.36</td><td>0.10</td><td>0.25</td><td>0.33</td><td>0.44</td><td>0.75</td><td>0.12</td></tr>\n",
       "\t<tr><td>42</td><td>0.01</td><td>0.23</td><td>urban    </td><td>0.43</td><td>0.06</td><td>0.30</td><td>0.12</td><td>0.21</td><td>0.51</td><td>0.03</td></tr>\n",
       "\t<tr><td> 6</td><td>0.02</td><td>0.27</td><td>urban    </td><td>0.72</td><td>0.12</td><td>0.12</td><td>0.10</td><td>0.58</td><td>0.44</td><td>0.14</td></tr>\n",
       "</tbody>\n",
       "</table>\n"
      ],
      "text/latex": [
       "A tibble: 6 × 11\n",
       "\\begin{tabular}{lllllllllll}\n",
       " state & popComm & agePct16t24 & pctUrban & perCapInc & pctUnderPov & pctNotHSGrad & pctUnemployed & pctDiv & meanPerFam & totCrimesPerPop\\\\\n",
       " <dbl> & <dbl> & <dbl> & <fct> & <dbl> & <dbl> & <dbl> & <dbl> & <dbl> & <dbl> & <dbl>\\\\\n",
       "\\hline\n",
       "\t  8 & 0.19 & 0.29 & urban     & 0.40 & 0.19 & 0.18 & 0.27 & 0.75 & 0.35 & 0.20\\\\\n",
       "\t 53 & 0.00 & 0.35 & urban     & 0.37 & 0.24 & 0.24 & 0.27 & 1.00 & 0.29 & 0.67\\\\\n",
       "\t 24 & 0.00 & 0.28 & non-urban & 0.27 & 0.27 & 0.43 & 0.36 & 0.70 & 0.45 & 0.43\\\\\n",
       "\t 34 & 0.04 & 0.34 & urban     & 0.36 & 0.10 & 0.25 & 0.33 & 0.44 & 0.75 & 0.12\\\\\n",
       "\t 42 & 0.01 & 0.23 & urban     & 0.43 & 0.06 & 0.30 & 0.12 & 0.21 & 0.51 & 0.03\\\\\n",
       "\t  6 & 0.02 & 0.27 & urban     & 0.72 & 0.12 & 0.12 & 0.10 & 0.58 & 0.44 & 0.14\\\\\n",
       "\\end{tabular}\n"
      ],
      "text/markdown": [
       "\n",
       "A tibble: 6 × 11\n",
       "\n",
       "| state &lt;dbl&gt; | popComm &lt;dbl&gt; | agePct16t24 &lt;dbl&gt; | pctUrban &lt;fct&gt; | perCapInc &lt;dbl&gt; | pctUnderPov &lt;dbl&gt; | pctNotHSGrad &lt;dbl&gt; | pctUnemployed &lt;dbl&gt; | pctDiv &lt;dbl&gt; | meanPerFam &lt;dbl&gt; | totCrimesPerPop &lt;dbl&gt; |\n",
       "|---|---|---|---|---|---|---|---|---|---|---|\n",
       "|  8 | 0.19 | 0.29 | urban     | 0.40 | 0.19 | 0.18 | 0.27 | 0.75 | 0.35 | 0.20 |\n",
       "| 53 | 0.00 | 0.35 | urban     | 0.37 | 0.24 | 0.24 | 0.27 | 1.00 | 0.29 | 0.67 |\n",
       "| 24 | 0.00 | 0.28 | non-urban | 0.27 | 0.27 | 0.43 | 0.36 | 0.70 | 0.45 | 0.43 |\n",
       "| 34 | 0.04 | 0.34 | urban     | 0.36 | 0.10 | 0.25 | 0.33 | 0.44 | 0.75 | 0.12 |\n",
       "| 42 | 0.01 | 0.23 | urban     | 0.43 | 0.06 | 0.30 | 0.12 | 0.21 | 0.51 | 0.03 |\n",
       "|  6 | 0.02 | 0.27 | urban     | 0.72 | 0.12 | 0.12 | 0.10 | 0.58 | 0.44 | 0.14 |\n",
       "\n"
      ],
      "text/plain": [
       "  state popComm agePct16t24 pctUrban  perCapInc pctUnderPov pctNotHSGrad\n",
       "1  8    0.19    0.29        urban     0.40      0.19        0.18        \n",
       "2 53    0.00    0.35        urban     0.37      0.24        0.24        \n",
       "3 24    0.00    0.28        non-urban 0.27      0.27        0.43        \n",
       "4 34    0.04    0.34        urban     0.36      0.10        0.25        \n",
       "5 42    0.01    0.23        urban     0.43      0.06        0.30        \n",
       "6  6    0.02    0.27        urban     0.72      0.12        0.12        \n",
       "  pctUnemployed pctDiv meanPerFam totCrimesPerPop\n",
       "1 0.27          0.75   0.35       0.20           \n",
       "2 0.27          1.00   0.29       0.67           \n",
       "3 0.36          0.70   0.45       0.43           \n",
       "4 0.33          0.44   0.75       0.12           \n",
       "5 0.12          0.21   0.51       0.03           \n",
       "6 0.10          0.58   0.44       0.14           "
      ]
     },
     "metadata": {},
     "output_type": "display_data"
    },
    {
     "data": {
      "text/html": [
       "<table class=\"dataframe\">\n",
       "<caption>A tibble: 6 × 11</caption>\n",
       "<thead>\n",
       "\t<tr><th scope=col>state</th><th scope=col>popComm</th><th scope=col>agePct16t24</th><th scope=col>pctUrban</th><th scope=col>perCapInc</th><th scope=col>pctUnderPov</th><th scope=col>pctNotHSGrad</th><th scope=col>pctUnemployed</th><th scope=col>pctDiv</th><th scope=col>meanPerFam</th><th scope=col>totCrimesPerPop</th></tr>\n",
       "\t<tr><th scope=col>&lt;dbl&gt;</th><th scope=col>&lt;dbl&gt;</th><th scope=col>&lt;dbl&gt;</th><th scope=col>&lt;fct&gt;</th><th scope=col>&lt;dbl&gt;</th><th scope=col>&lt;dbl&gt;</th><th scope=col>&lt;dbl&gt;</th><th scope=col>&lt;dbl&gt;</th><th scope=col>&lt;dbl&gt;</th><th scope=col>&lt;dbl&gt;</th><th scope=col>&lt;dbl&gt;</th></tr>\n",
       "</thead>\n",
       "<tbody>\n",
       "\t<tr><td>28</td><td>0.02</td><td>0.43</td><td>non-urban</td><td>0.17</td><td>0.76</td><td>0.62</td><td>0.61</td><td>0.64</td><td>0.53</td><td>0.19</td></tr>\n",
       "\t<tr><td>12</td><td>0.01</td><td>0.35</td><td>urban    </td><td>0.49</td><td>0.16</td><td>0.11</td><td>0.12</td><td>0.53</td><td>0.35</td><td>0.09</td></tr>\n",
       "\t<tr><td> 6</td><td>0.05</td><td>0.73</td><td>urban    </td><td>0.18</td><td>0.32</td><td>0.37</td><td>0.24</td><td>0.48</td><td>0.71</td><td>0.45</td></tr>\n",
       "\t<tr><td> 9</td><td>0.16</td><td>0.31</td><td>urban    </td><td>0.31</td><td>0.31</td><td>0.58</td><td>0.50</td><td>0.52</td><td>0.47</td><td>0.23</td></tr>\n",
       "\t<tr><td>25</td><td>0.08</td><td>0.63</td><td>urban    </td><td>0.40</td><td>0.16</td><td>0.35</td><td>0.37</td><td>0.32</td><td>0.46</td><td>0.19</td></tr>\n",
       "\t<tr><td> 6</td><td>0.20</td><td>0.40</td><td>urban    </td><td>0.24</td><td>0.35</td><td>0.55</td><td>0.47</td><td>0.57</td><td>0.86</td><td>0.48</td></tr>\n",
       "</tbody>\n",
       "</table>\n"
      ],
      "text/latex": [
       "A tibble: 6 × 11\n",
       "\\begin{tabular}{lllllllllll}\n",
       " state & popComm & agePct16t24 & pctUrban & perCapInc & pctUnderPov & pctNotHSGrad & pctUnemployed & pctDiv & meanPerFam & totCrimesPerPop\\\\\n",
       " <dbl> & <dbl> & <dbl> & <fct> & <dbl> & <dbl> & <dbl> & <dbl> & <dbl> & <dbl> & <dbl>\\\\\n",
       "\\hline\n",
       "\t 28 & 0.02 & 0.43 & non-urban & 0.17 & 0.76 & 0.62 & 0.61 & 0.64 & 0.53 & 0.19\\\\\n",
       "\t 12 & 0.01 & 0.35 & urban     & 0.49 & 0.16 & 0.11 & 0.12 & 0.53 & 0.35 & 0.09\\\\\n",
       "\t  6 & 0.05 & 0.73 & urban     & 0.18 & 0.32 & 0.37 & 0.24 & 0.48 & 0.71 & 0.45\\\\\n",
       "\t  9 & 0.16 & 0.31 & urban     & 0.31 & 0.31 & 0.58 & 0.50 & 0.52 & 0.47 & 0.23\\\\\n",
       "\t 25 & 0.08 & 0.63 & urban     & 0.40 & 0.16 & 0.35 & 0.37 & 0.32 & 0.46 & 0.19\\\\\n",
       "\t  6 & 0.20 & 0.40 & urban     & 0.24 & 0.35 & 0.55 & 0.47 & 0.57 & 0.86 & 0.48\\\\\n",
       "\\end{tabular}\n"
      ],
      "text/markdown": [
       "\n",
       "A tibble: 6 × 11\n",
       "\n",
       "| state &lt;dbl&gt; | popComm &lt;dbl&gt; | agePct16t24 &lt;dbl&gt; | pctUrban &lt;fct&gt; | perCapInc &lt;dbl&gt; | pctUnderPov &lt;dbl&gt; | pctNotHSGrad &lt;dbl&gt; | pctUnemployed &lt;dbl&gt; | pctDiv &lt;dbl&gt; | meanPerFam &lt;dbl&gt; | totCrimesPerPop &lt;dbl&gt; |\n",
       "|---|---|---|---|---|---|---|---|---|---|---|\n",
       "| 28 | 0.02 | 0.43 | non-urban | 0.17 | 0.76 | 0.62 | 0.61 | 0.64 | 0.53 | 0.19 |\n",
       "| 12 | 0.01 | 0.35 | urban     | 0.49 | 0.16 | 0.11 | 0.12 | 0.53 | 0.35 | 0.09 |\n",
       "|  6 | 0.05 | 0.73 | urban     | 0.18 | 0.32 | 0.37 | 0.24 | 0.48 | 0.71 | 0.45 |\n",
       "|  9 | 0.16 | 0.31 | urban     | 0.31 | 0.31 | 0.58 | 0.50 | 0.52 | 0.47 | 0.23 |\n",
       "| 25 | 0.08 | 0.63 | urban     | 0.40 | 0.16 | 0.35 | 0.37 | 0.32 | 0.46 | 0.19 |\n",
       "|  6 | 0.20 | 0.40 | urban     | 0.24 | 0.35 | 0.55 | 0.47 | 0.57 | 0.86 | 0.48 |\n",
       "\n"
      ],
      "text/plain": [
       "  state popComm agePct16t24 pctUrban  perCapInc pctUnderPov pctNotHSGrad\n",
       "1 28    0.02    0.43        non-urban 0.17      0.76        0.62        \n",
       "2 12    0.01    0.35        urban     0.49      0.16        0.11        \n",
       "3  6    0.05    0.73        urban     0.18      0.32        0.37        \n",
       "4  9    0.16    0.31        urban     0.31      0.31        0.58        \n",
       "5 25    0.08    0.63        urban     0.40      0.16        0.35        \n",
       "6  6    0.20    0.40        urban     0.24      0.35        0.55        \n",
       "  pctUnemployed pctDiv meanPerFam totCrimesPerPop\n",
       "1 0.61          0.64   0.53       0.19           \n",
       "2 0.12          0.53   0.35       0.09           \n",
       "3 0.24          0.48   0.71       0.45           \n",
       "4 0.50          0.52   0.47       0.23           \n",
       "5 0.37          0.32   0.46       0.19           \n",
       "6 0.47          0.57   0.86       0.48           "
      ]
     },
     "metadata": {},
     "output_type": "display_data"
    },
    {
     "data": {
      "text/html": [
       "1994"
      ],
      "text/latex": [
       "1994"
      ],
      "text/markdown": [
       "1994"
      ],
      "text/plain": [
       "[1] 1994"
      ]
     },
     "metadata": {},
     "output_type": "display_data"
    }
   ],
   "source": [
    "crime <- crime_data %>%\n",
    "  select(X1,X6,X14,X17,X26,X34,X36,X38,X47,X48,X128)%>%\n",
    "  rename(state = X1,\n",
    "         popComm = X6,\n",
    "         agePct16t24 = X14,\n",
    "         pctUrban = X17,\n",
    "         perCapInc = X26,\n",
    "         pctUnderPov = X34,\n",
    "         pctNotHSGrad = X36,\n",
    "         pctUnemployed = X38,\n",
    "         pctDiv = X47,\n",
    "         meanPerFam = X48,\n",
    "         totCrimesPerPop = X128)\n",
    "crime$pctUrban <- if_else(crime$pctUrban > 0,\n",
    "                 \"urban\",\"non-urban\")\n",
    "crime <- crime%>%\n",
    "  mutate(pctUrban = as_factor(pctUrban))\n",
    "\n",
    "head(crime)\n",
    "tail(crime)\n",
    "nrow(crime)"
   ]
  },
  {
   "cell_type": "markdown",
   "id": "f8341de3-d0e6-4514-8452-6b85dda0c6b0",
   "metadata": {},
   "source": [
    "We want to do the study based on one specific state rather than all of the states. Also, we want the state has enough instances for us to study, therefore, we chose the state with the most instances."
   ]
  },
  {
   "cell_type": "code",
   "execution_count": 4,
   "id": "029d22e1-3db8-493f-ac9c-340679b38654",
   "metadata": {},
   "outputs": [
    {
     "data": {
      "text/html": [
       "<table class=\"dataframe\">\n",
       "<caption>A grouped_df: 1 × 2</caption>\n",
       "<thead>\n",
       "\t<tr><th scope=col>state</th><th scope=col>n</th></tr>\n",
       "\t<tr><th scope=col>&lt;dbl&gt;</th><th scope=col>&lt;int&gt;</th></tr>\n",
       "</thead>\n",
       "<tbody>\n",
       "\t<tr><td>6</td><td>278</td></tr>\n",
       "</tbody>\n",
       "</table>\n"
      ],
      "text/latex": [
       "A grouped\\_df: 1 × 2\n",
       "\\begin{tabular}{ll}\n",
       " state & n\\\\\n",
       " <dbl> & <int>\\\\\n",
       "\\hline\n",
       "\t 6 & 278\\\\\n",
       "\\end{tabular}\n"
      ],
      "text/markdown": [
       "\n",
       "A grouped_df: 1 × 2\n",
       "\n",
       "| state &lt;dbl&gt; | n &lt;int&gt; |\n",
       "|---|---|\n",
       "| 6 | 278 |\n",
       "\n"
      ],
      "text/plain": [
       "  state n  \n",
       "1 6     278"
      ]
     },
     "metadata": {},
     "output_type": "display_data"
    }
   ],
   "source": [
    "state_crime <- crime %>%\n",
    "group_by(state)%>%\n",
    "count()\n",
    "max = max(state_crime$n)\n",
    "state_crime[which(state_crime['n'] == max),]"
   ]
  },
  {
   "cell_type": "markdown",
   "id": "f0931e5e-f4ac-4771-86db-25d69bf2dff7",
   "metadata": {},
   "source": [
    "As shown above, the state with area code 6, which is California (the name of corresponding state was not shown in the original data source but we searched it online), has the most instances. We `filter` out the instances of California and call the new dataset `clean_crime`. We will do our study based on `clean_crime`."
   ]
  },
  {
   "cell_type": "code",
   "execution_count": 5,
   "id": "af4aaf8c-c2fc-4d1b-a87c-d57114f17f34",
   "metadata": {},
   "outputs": [
    {
     "data": {
      "text/html": [
       "<table class=\"dataframe\">\n",
       "<caption>A tibble: 6 × 11</caption>\n",
       "<thead>\n",
       "\t<tr><th scope=col>state</th><th scope=col>popComm</th><th scope=col>agePct16t24</th><th scope=col>pctUrban</th><th scope=col>perCapInc</th><th scope=col>pctUnderPov</th><th scope=col>pctNotHSGrad</th><th scope=col>pctUnemployed</th><th scope=col>pctDiv</th><th scope=col>meanPerFam</th><th scope=col>totCrimesPerPop</th></tr>\n",
       "\t<tr><th scope=col>&lt;dbl&gt;</th><th scope=col>&lt;dbl&gt;</th><th scope=col>&lt;dbl&gt;</th><th scope=col>&lt;fct&gt;</th><th scope=col>&lt;dbl&gt;</th><th scope=col>&lt;dbl&gt;</th><th scope=col>&lt;dbl&gt;</th><th scope=col>&lt;dbl&gt;</th><th scope=col>&lt;dbl&gt;</th><th scope=col>&lt;dbl&gt;</th><th scope=col>&lt;dbl&gt;</th></tr>\n",
       "</thead>\n",
       "<tbody>\n",
       "\t<tr><td>6</td><td>0.02</td><td>0.27</td><td>urban    </td><td>0.72</td><td>0.12</td><td>0.12</td><td>0.10</td><td>0.58</td><td>0.44</td><td>0.14</td></tr>\n",
       "\t<tr><td>6</td><td>0.01</td><td>0.36</td><td>non-urban</td><td>0.10</td><td>0.64</td><td>0.82</td><td>1.00</td><td>0.52</td><td>0.78</td><td>0.55</td></tr>\n",
       "\t<tr><td>6</td><td>0.13</td><td>0.35</td><td>urban    </td><td>0.33</td><td>0.18</td><td>0.36</td><td>0.32</td><td>0.46</td><td>0.85</td><td>0.24</td></tr>\n",
       "\t<tr><td>6</td><td>0.04</td><td>0.30</td><td>urban    </td><td>0.79</td><td>0.18</td><td>0.14</td><td>0.19</td><td>0.66</td><td>0.35</td><td>0.21</td></tr>\n",
       "\t<tr><td>6</td><td>0.25</td><td>0.28</td><td>urban    </td><td>0.29</td><td>0.34</td><td>0.43</td><td>0.59</td><td>0.67</td><td>0.60</td><td>0.34</td></tr>\n",
       "\t<tr><td>6</td><td>0.02</td><td>0.39</td><td>non-urban</td><td>0.08</td><td>0.63</td><td>1.00</td><td>1.00</td><td>0.33</td><td>1.00</td><td>0.31</td></tr>\n",
       "</tbody>\n",
       "</table>\n"
      ],
      "text/latex": [
       "A tibble: 6 × 11\n",
       "\\begin{tabular}{lllllllllll}\n",
       " state & popComm & agePct16t24 & pctUrban & perCapInc & pctUnderPov & pctNotHSGrad & pctUnemployed & pctDiv & meanPerFam & totCrimesPerPop\\\\\n",
       " <dbl> & <dbl> & <dbl> & <fct> & <dbl> & <dbl> & <dbl> & <dbl> & <dbl> & <dbl> & <dbl>\\\\\n",
       "\\hline\n",
       "\t 6 & 0.02 & 0.27 & urban     & 0.72 & 0.12 & 0.12 & 0.10 & 0.58 & 0.44 & 0.14\\\\\n",
       "\t 6 & 0.01 & 0.36 & non-urban & 0.10 & 0.64 & 0.82 & 1.00 & 0.52 & 0.78 & 0.55\\\\\n",
       "\t 6 & 0.13 & 0.35 & urban     & 0.33 & 0.18 & 0.36 & 0.32 & 0.46 & 0.85 & 0.24\\\\\n",
       "\t 6 & 0.04 & 0.30 & urban     & 0.79 & 0.18 & 0.14 & 0.19 & 0.66 & 0.35 & 0.21\\\\\n",
       "\t 6 & 0.25 & 0.28 & urban     & 0.29 & 0.34 & 0.43 & 0.59 & 0.67 & 0.60 & 0.34\\\\\n",
       "\t 6 & 0.02 & 0.39 & non-urban & 0.08 & 0.63 & 1.00 & 1.00 & 0.33 & 1.00 & 0.31\\\\\n",
       "\\end{tabular}\n"
      ],
      "text/markdown": [
       "\n",
       "A tibble: 6 × 11\n",
       "\n",
       "| state &lt;dbl&gt; | popComm &lt;dbl&gt; | agePct16t24 &lt;dbl&gt; | pctUrban &lt;fct&gt; | perCapInc &lt;dbl&gt; | pctUnderPov &lt;dbl&gt; | pctNotHSGrad &lt;dbl&gt; | pctUnemployed &lt;dbl&gt; | pctDiv &lt;dbl&gt; | meanPerFam &lt;dbl&gt; | totCrimesPerPop &lt;dbl&gt; |\n",
       "|---|---|---|---|---|---|---|---|---|---|---|\n",
       "| 6 | 0.02 | 0.27 | urban     | 0.72 | 0.12 | 0.12 | 0.10 | 0.58 | 0.44 | 0.14 |\n",
       "| 6 | 0.01 | 0.36 | non-urban | 0.10 | 0.64 | 0.82 | 1.00 | 0.52 | 0.78 | 0.55 |\n",
       "| 6 | 0.13 | 0.35 | urban     | 0.33 | 0.18 | 0.36 | 0.32 | 0.46 | 0.85 | 0.24 |\n",
       "| 6 | 0.04 | 0.30 | urban     | 0.79 | 0.18 | 0.14 | 0.19 | 0.66 | 0.35 | 0.21 |\n",
       "| 6 | 0.25 | 0.28 | urban     | 0.29 | 0.34 | 0.43 | 0.59 | 0.67 | 0.60 | 0.34 |\n",
       "| 6 | 0.02 | 0.39 | non-urban | 0.08 | 0.63 | 1.00 | 1.00 | 0.33 | 1.00 | 0.31 |\n",
       "\n"
      ],
      "text/plain": [
       "  state popComm agePct16t24 pctUrban  perCapInc pctUnderPov pctNotHSGrad\n",
       "1 6     0.02    0.27        urban     0.72      0.12        0.12        \n",
       "2 6     0.01    0.36        non-urban 0.10      0.64        0.82        \n",
       "3 6     0.13    0.35        urban     0.33      0.18        0.36        \n",
       "4 6     0.04    0.30        urban     0.79      0.18        0.14        \n",
       "5 6     0.25    0.28        urban     0.29      0.34        0.43        \n",
       "6 6     0.02    0.39        non-urban 0.08      0.63        1.00        \n",
       "  pctUnemployed pctDiv meanPerFam totCrimesPerPop\n",
       "1 0.10          0.58   0.44       0.14           \n",
       "2 1.00          0.52   0.78       0.55           \n",
       "3 0.32          0.46   0.85       0.24           \n",
       "4 0.19          0.66   0.35       0.21           \n",
       "5 0.59          0.67   0.60       0.34           \n",
       "6 1.00          0.33   1.00       0.31           "
      ]
     },
     "metadata": {},
     "output_type": "display_data"
    }
   ],
   "source": [
    "clean_crime <- crime %>%\n",
    "filter(state == 6)\n",
    "head(clean_crime)"
   ]
  },
  {
   "cell_type": "markdown",
   "id": "e52929bd-4599-4f5e-bf87-a636ff5dc494",
   "metadata": {},
   "source": [
    "### View Data Visually"
   ]
  },
  {
   "cell_type": "markdown",
   "id": "1780e498-dbc1-4eac-8a20-41cadfb89e5b",
   "metadata": {},
   "source": [
    "We first want to have a look at the distribution of the response variable `totCrimesPerPop`. We use `geom_histogram` to plot the distribution."
   ]
  },
  {
   "cell_type": "code",
   "execution_count": 6,
   "id": "aae7f60c-e9cd-40df-a34d-4b0ecacca710",
   "metadata": {},
   "outputs": [
    {
     "data": {
      "image/png": "[encoded data removed]",
      "text/plain": [
       "plot without title"
      ]
     },
     "metadata": {
      "image/png": {
       "height": 480,
       "width": 1200
      }
     },
     "output_type": "display_data"
    }
   ],
   "source": [
    "options(repr.plot.width = 20, repr.plot.height = 8)\n",
    "\n",
    "tot_crime_dist <- clean_crime %>%\n",
    "    ggplot(aes(x = totCrimesPerPop)) +\n",
    "    geom_histogram(bins = 30, color = \"white\") +\n",
    "    xlab(\"Total number of violent crimes per 100K population\") +\n",
    "    ylab(\"Count\") +\n",
    "    ggtitle(\"Distribution of total crimes per 100K population\") +\n",
    "    theme(text = element_text(size = 20)) +\n",
    "    theme(plot.title = element_text(hjust = 0.45))\n",
    "tot_crime_dist"
   ]
  },
  {
   "cell_type": "markdown",
   "id": "f654a3c3-6828-4416-8987-6af3032fb740",
   "metadata": {},
   "source": [
    "Then, we want to see if there's any association between the quantitative input variables. Thus, we eliminated categorical variables `state` and `pctUrban` and call this dataset `continuous_var`."
   ]
  },
  {
   "cell_type": "code",
   "execution_count": 7,
   "id": "94cdb41f-1e1c-42f1-835c-5842b11189a8",
   "metadata": {},
   "outputs": [
    {
     "data": {
      "text/html": [
       "<table class=\"dataframe\">\n",
       "<caption>A tibble: 6 × 9</caption>\n",
       "<thead>\n",
       "\t<tr><th scope=col>popComm</th><th scope=col>agePct16t24</th><th scope=col>perCapInc</th><th scope=col>pctUnderPov</th><th scope=col>pctNotHSGrad</th><th scope=col>pctUnemployed</th><th scope=col>pctDiv</th><th scope=col>meanPerFam</th><th scope=col>totCrimesPerPop</th></tr>\n",
       "\t<tr><th scope=col>&lt;dbl&gt;</th><th scope=col>&lt;dbl&gt;</th><th scope=col>&lt;dbl&gt;</th><th scope=col>&lt;dbl&gt;</th><th scope=col>&lt;dbl&gt;</th><th scope=col>&lt;dbl&gt;</th><th scope=col>&lt;dbl&gt;</th><th scope=col>&lt;dbl&gt;</th><th scope=col>&lt;dbl&gt;</th></tr>\n",
       "</thead>\n",
       "<tbody>\n",
       "\t<tr><td>0.02</td><td>0.27</td><td>0.72</td><td>0.12</td><td>0.12</td><td>0.10</td><td>0.58</td><td>0.44</td><td>0.14</td></tr>\n",
       "\t<tr><td>0.01</td><td>0.36</td><td>0.10</td><td>0.64</td><td>0.82</td><td>1.00</td><td>0.52</td><td>0.78</td><td>0.55</td></tr>\n",
       "\t<tr><td>0.13</td><td>0.35</td><td>0.33</td><td>0.18</td><td>0.36</td><td>0.32</td><td>0.46</td><td>0.85</td><td>0.24</td></tr>\n",
       "\t<tr><td>0.04</td><td>0.30</td><td>0.79</td><td>0.18</td><td>0.14</td><td>0.19</td><td>0.66</td><td>0.35</td><td>0.21</td></tr>\n",
       "\t<tr><td>0.25</td><td>0.28</td><td>0.29</td><td>0.34</td><td>0.43</td><td>0.59</td><td>0.67</td><td>0.60</td><td>0.34</td></tr>\n",
       "\t<tr><td>0.02</td><td>0.39</td><td>0.08</td><td>0.63</td><td>1.00</td><td>1.00</td><td>0.33</td><td>1.00</td><td>0.31</td></tr>\n",
       "</tbody>\n",
       "</table>\n"
      ],
      "text/latex": [
       "A tibble: 6 × 9\n",
       "\\begin{tabular}{lllllllll}\n",
       " popComm & agePct16t24 & perCapInc & pctUnderPov & pctNotHSGrad & pctUnemployed & pctDiv & meanPerFam & totCrimesPerPop\\\\\n",
       " <dbl> & <dbl> & <dbl> & <dbl> & <dbl> & <dbl> & <dbl> & <dbl> & <dbl>\\\\\n",
       "\\hline\n",
       "\t 0.02 & 0.27 & 0.72 & 0.12 & 0.12 & 0.10 & 0.58 & 0.44 & 0.14\\\\\n",
       "\t 0.01 & 0.36 & 0.10 & 0.64 & 0.82 & 1.00 & 0.52 & 0.78 & 0.55\\\\\n",
       "\t 0.13 & 0.35 & 0.33 & 0.18 & 0.36 & 0.32 & 0.46 & 0.85 & 0.24\\\\\n",
       "\t 0.04 & 0.30 & 0.79 & 0.18 & 0.14 & 0.19 & 0.66 & 0.35 & 0.21\\\\\n",
       "\t 0.25 & 0.28 & 0.29 & 0.34 & 0.43 & 0.59 & 0.67 & 0.60 & 0.34\\\\\n",
       "\t 0.02 & 0.39 & 0.08 & 0.63 & 1.00 & 1.00 & 0.33 & 1.00 & 0.31\\\\\n",
       "\\end{tabular}\n"
      ],
      "text/markdown": [
       "\n",
       "A tibble: 6 × 9\n",
       "\n",
       "| popComm &lt;dbl&gt; | agePct16t24 &lt;dbl&gt; | perCapInc &lt;dbl&gt; | pctUnderPov &lt;dbl&gt; | pctNotHSGrad &lt;dbl&gt; | pctUnemployed &lt;dbl&gt; | pctDiv &lt;dbl&gt; | meanPerFam &lt;dbl&gt; | totCrimesPerPop &lt;dbl&gt; |\n",
       "|---|---|---|---|---|---|---|---|---|\n",
       "| 0.02 | 0.27 | 0.72 | 0.12 | 0.12 | 0.10 | 0.58 | 0.44 | 0.14 |\n",
       "| 0.01 | 0.36 | 0.10 | 0.64 | 0.82 | 1.00 | 0.52 | 0.78 | 0.55 |\n",
       "| 0.13 | 0.35 | 0.33 | 0.18 | 0.36 | 0.32 | 0.46 | 0.85 | 0.24 |\n",
       "| 0.04 | 0.30 | 0.79 | 0.18 | 0.14 | 0.19 | 0.66 | 0.35 | 0.21 |\n",
       "| 0.25 | 0.28 | 0.29 | 0.34 | 0.43 | 0.59 | 0.67 | 0.60 | 0.34 |\n",
       "| 0.02 | 0.39 | 0.08 | 0.63 | 1.00 | 1.00 | 0.33 | 1.00 | 0.31 |\n",
       "\n"
      ],
      "text/plain": [
       "  popComm agePct16t24 perCapInc pctUnderPov pctNotHSGrad pctUnemployed pctDiv\n",
       "1 0.02    0.27        0.72      0.12        0.12         0.10          0.58  \n",
       "2 0.01    0.36        0.10      0.64        0.82         1.00          0.52  \n",
       "3 0.13    0.35        0.33      0.18        0.36         0.32          0.46  \n",
       "4 0.04    0.30        0.79      0.18        0.14         0.19          0.66  \n",
       "5 0.25    0.28        0.29      0.34        0.43         0.59          0.67  \n",
       "6 0.02    0.39        0.08      0.63        1.00         1.00          0.33  \n",
       "  meanPerFam totCrimesPerPop\n",
       "1 0.44       0.14           \n",
       "2 0.78       0.55           \n",
       "3 0.85       0.24           \n",
       "4 0.35       0.21           \n",
       "5 0.60       0.34           \n",
       "6 1.00       0.31           "
      ]
     },
     "metadata": {},
     "output_type": "display_data"
    }
   ],
   "source": [
    "continuous_var <- clean_crime%>%\n",
    "  select(-state, -pctUrban)\n",
    "head(continuous_var)"
   ]
  },
  {
   "cell_type": "markdown",
   "id": "5cc75e6c-a0cf-4eac-bce2-1d6a71d779c0",
   "metadata": {},
   "source": [
    "Now we explore (visually) the association between variables in the dataset. We use the plotting function `ggpairs()`, from the library `GGally`, to generate a pair plot of ALL the variables found in `continuous_var`. The `ggplot()` object’s name is `crime_pair_plots`."
   ]
  },
  {
   "cell_type": "code",
   "execution_count": 8,
   "id": "6ff5c095-9998-4f40-87dc-29ef733f7384",
   "metadata": {},
   "outputs": [
    {
     "ename": "ERROR",
     "evalue": "Error in ggpairs(., progress = FALSE): could not find function \"ggpairs\"\n",
     "output_type": "error",
     "traceback": [
      "Error in ggpairs(., progress = FALSE): could not find function \"ggpairs\"\nTraceback:\n",
      "1. continuous_var %>% ggpairs(progress = FALSE)"
     ]
    }
   ],
   "source": [
    "crime_pair_plots <- continuous_var %>%\n",
    "    ggpairs(progress = FALSE) +\n",
    "  theme(\n",
    "    text = element_text(size = 10),\n",
    "    plot.title = element_text(face = \"bold\"),\n",
    "    axis.title = element_text(face = \"bold\")\n",
    ")\n",
    "crime_pair_plots"
   ]
  },
  {
   "cell_type": "markdown",
   "id": "44057dc4-4e73-4a8e-bfe3-563a621d7042",
   "metadata": {},
   "source": [
    "We also want to see the relationship between `pctUrban` and `totCrimesPerPop`. We use `geom_boxplot()` to visualize their relationship."
   ]
  },
  {
   "cell_type": "code",
   "execution_count": 9,
   "id": "72b1c432-2dd1-475e-bf2f-35c0a77fbee9",
   "metadata": {},
   "outputs": [
    {
     "data": {
      "image/png": "[encoded data removed]",
      "text/plain": [
       "plot without title"
      ]
     },
     "metadata": {
      "image/png": {
       "height": 480,
       "width": 1200
      }
     },
     "output_type": "display_data"
    }
   ],
   "source": [
    "options(repr.plot.width = 20, repr.plot.height = 8)\n",
    "\n",
    "urban_totCrime_boxplot <- \n",
    "    clean_crime %>%\n",
    "    ggplot(aes(x = pctUrban, y = totCrimesPerPop , color = pctUrban)) +\n",
    "    geom_boxplot() +\n",
    "    xlab(\"Urbanization\") +\n",
    "    ylab(\"Total number of violent crimes per 100K population\") +\n",
    "    ggtitle(\"Total number of violent crimes per 100K population for Urban and Non-urban areas\") +\n",
    "    theme(text = element_text(size = 20)) +\n",
    "    theme(plot.title = element_text(hjust = 0.5))\n",
    "\n",
    "urban_totCrime_boxplot"
   ]
  },
  {
   "cell_type": "markdown",
   "id": "6b1a2174-95d3-4ed3-baea-b7bc64f8ab06",
   "metadata": {},
   "source": [
    "### Statistics of Data"
   ]
  },
  {
   "cell_type": "markdown",
   "id": "9af089f3-35a9-4d9d-9de3-0983c1f643a1",
   "metadata": {},
   "source": [
    "Next, we want to summarize the statistics of all of the continuous variables in our dataset and we call this summary table `crime_summary`."
   ]
  },
  {
   "cell_type": "code",
   "execution_count": 10,
   "id": "d8cb54ee-6ed9-43f8-972d-8d9b87707df8",
   "metadata": {},
   "outputs": [
    {
     "data": {
      "text/html": [
       "<table class=\"dataframe\">\n",
       "<caption>A tibble: 9 × 7</caption>\n",
       "<thead>\n",
       "\t<tr><th scope=col>name</th><th scope=col>mean</th><th scope=col>sd</th><th scope=col>median</th><th scope=col>variance</th><th scope=col>max</th><th scope=col>min</th></tr>\n",
       "\t<tr><th scope=col>&lt;chr&gt;</th><th scope=col>&lt;dbl&gt;</th><th scope=col>&lt;dbl&gt;</th><th scope=col>&lt;dbl&gt;</th><th scope=col>&lt;dbl&gt;</th><th scope=col>&lt;dbl&gt;</th><th scope=col>&lt;dbl&gt;</th></tr>\n",
       "</thead>\n",
       "<tbody>\n",
       "\t<tr><td>agePct16t24    </td><td>0.33406475</td><td>0.1373223</td><td>0.310</td><td>0.01885743</td><td>1.00</td><td>0.09</td></tr>\n",
       "\t<tr><td>meanPerFam     </td><td>0.59312950</td><td>0.2219651</td><td>0.575</td><td>0.04926851</td><td>1.00</td><td>0.08</td></tr>\n",
       "\t<tr><td>pctDiv         </td><td>0.55500000</td><td>0.1502267</td><td>0.550</td><td>0.02256805</td><td>0.92</td><td>0.08</td></tr>\n",
       "\t<tr><td>pctNotHSGrad   </td><td>0.37967626</td><td>0.2516220</td><td>0.335</td><td>0.06331361</td><td>1.00</td><td>0.02</td></tr>\n",
       "\t<tr><td>pctUnderPov    </td><td>0.27661871</td><td>0.1807827</td><td>0.230</td><td>0.03268239</td><td>0.86</td><td>0.02</td></tr>\n",
       "\t<tr><td>pctUnemployed  </td><td>0.38611511</td><td>0.2341064</td><td>0.330</td><td>0.05480579</td><td>1.00</td><td>0.02</td></tr>\n",
       "\t<tr><td>perCapInc      </td><td>0.40586331</td><td>0.2344757</td><td>0.350</td><td>0.05497885</td><td>1.00</td><td>0.02</td></tr>\n",
       "\t<tr><td>popComm        </td><td>0.08992806</td><td>0.1442471</td><td>0.050</td><td>0.02080722</td><td>1.00</td><td>0.00</td></tr>\n",
       "\t<tr><td>totCrimesPerPop</td><td>0.33046763</td><td>0.2261883</td><td>0.265</td><td>0.05116115</td><td>1.00</td><td>0.01</td></tr>\n",
       "</tbody>\n",
       "</table>\n"
      ],
      "text/latex": [
       "A tibble: 9 × 7\n",
       "\\begin{tabular}{lllllll}\n",
       " name & mean & sd & median & variance & max & min\\\\\n",
       " <chr> & <dbl> & <dbl> & <dbl> & <dbl> & <dbl> & <dbl>\\\\\n",
       "\\hline\n",
       "\t agePct16t24     & 0.33406475 & 0.1373223 & 0.310 & 0.01885743 & 1.00 & 0.09\\\\\n",
       "\t meanPerFam      & 0.59312950 & 0.2219651 & 0.575 & 0.04926851 & 1.00 & 0.08\\\\\n",
       "\t pctDiv          & 0.55500000 & 0.1502267 & 0.550 & 0.02256805 & 0.92 & 0.08\\\\\n",
       "\t pctNotHSGrad    & 0.37967626 & 0.2516220 & 0.335 & 0.06331361 & 1.00 & 0.02\\\\\n",
       "\t pctUnderPov     & 0.27661871 & 0.1807827 & 0.230 & 0.03268239 & 0.86 & 0.02\\\\\n",
       "\t pctUnemployed   & 0.38611511 & 0.2341064 & 0.330 & 0.05480579 & 1.00 & 0.02\\\\\n",
       "\t perCapInc       & 0.40586331 & 0.2344757 & 0.350 & 0.05497885 & 1.00 & 0.02\\\\\n",
       "\t popComm         & 0.08992806 & 0.1442471 & 0.050 & 0.02080722 & 1.00 & 0.00\\\\\n",
       "\t totCrimesPerPop & 0.33046763 & 0.2261883 & 0.265 & 0.05116115 & 1.00 & 0.01\\\\\n",
       "\\end{tabular}\n"
      ],
      "text/markdown": [
       "\n",
       "A tibble: 9 × 7\n",
       "\n",
       "| name &lt;chr&gt; | mean &lt;dbl&gt; | sd &lt;dbl&gt; | median &lt;dbl&gt; | variance &lt;dbl&gt; | max &lt;dbl&gt; | min &lt;dbl&gt; |\n",
       "|---|---|---|---|---|---|---|\n",
       "| agePct16t24     | 0.33406475 | 0.1373223 | 0.310 | 0.01885743 | 1.00 | 0.09 |\n",
       "| meanPerFam      | 0.59312950 | 0.2219651 | 0.575 | 0.04926851 | 1.00 | 0.08 |\n",
       "| pctDiv          | 0.55500000 | 0.1502267 | 0.550 | 0.02256805 | 0.92 | 0.08 |\n",
       "| pctNotHSGrad    | 0.37967626 | 0.2516220 | 0.335 | 0.06331361 | 1.00 | 0.02 |\n",
       "| pctUnderPov     | 0.27661871 | 0.1807827 | 0.230 | 0.03268239 | 0.86 | 0.02 |\n",
       "| pctUnemployed   | 0.38611511 | 0.2341064 | 0.330 | 0.05480579 | 1.00 | 0.02 |\n",
       "| perCapInc       | 0.40586331 | 0.2344757 | 0.350 | 0.05497885 | 1.00 | 0.02 |\n",
       "| popComm         | 0.08992806 | 0.1442471 | 0.050 | 0.02080722 | 1.00 | 0.00 |\n",
       "| totCrimesPerPop | 0.33046763 | 0.2261883 | 0.265 | 0.05116115 | 1.00 | 0.01 |\n",
       "\n"
      ],
      "text/plain": [
       "  name            mean       sd        median variance   max  min \n",
       "1 agePct16t24     0.33406475 0.1373223 0.310  0.01885743 1.00 0.09\n",
       "2 meanPerFam      0.59312950 0.2219651 0.575  0.04926851 1.00 0.08\n",
       "3 pctDiv          0.55500000 0.1502267 0.550  0.02256805 0.92 0.08\n",
       "4 pctNotHSGrad    0.37967626 0.2516220 0.335  0.06331361 1.00 0.02\n",
       "5 pctUnderPov     0.27661871 0.1807827 0.230  0.03268239 0.86 0.02\n",
       "6 pctUnemployed   0.38611511 0.2341064 0.330  0.05480579 1.00 0.02\n",
       "7 perCapInc       0.40586331 0.2344757 0.350  0.05497885 1.00 0.02\n",
       "8 popComm         0.08992806 0.1442471 0.050  0.02080722 1.00 0.00\n",
       "9 totCrimesPerPop 0.33046763 0.2261883 0.265  0.05116115 1.00 0.01"
      ]
     },
     "metadata": {},
     "output_type": "display_data"
    }
   ],
   "source": [
    "crime_summary <-\n",
    "    clean_crime %>%\n",
    "    select(-pctUrban, -state) %>%\n",
    "    pivot_longer(cols = everything()) %>%\n",
    "    group_by(name) %>% \n",
    "    summarise(\n",
    "    mean = mean(value,na.rm = T),\n",
    "    sd = sd(value,na.rm = T),\n",
    "    median = median(value, na.rm = T),\n",
    "    variance = var(value, na.rm = T),\n",
    "    max = max(value, na.rm = T),\n",
    "    min = min(value, na.rm = T))\n",
    "\n",
    "crime_summary"
   ]
  },
  {
   "cell_type": "markdown",
   "id": "7b947f97-1d86-4f83-88c7-cae546e0edc9",
   "metadata": {},
   "source": [
    "## Methods: Plan"
   ]
  },
  {
   "cell_type": "markdown",
   "id": "af3c86ef-52b8-41fe-a9ad-d254ef429657",
   "metadata": {},
   "source": [
    "**Trustworthiness:**\n",
    "- The Community and Crime Data Set we retrieved is from socio-economic data from the 1990 US Census, law enforcement data from the 1990 US LEMAS survey, and crime data from the 1995 FBI UCR\n",
    "- The Community and Crime Data Set is authentic and unbiased, as it recorded a number of factors related to violent crime, which is a reliable data source\n",
    "- We will use scientific methods of statistical inference and statistical modelling in the study to obtain accurate results and do data analysis\n",
    " \n",
    " \n",
    "**What methods do you plan on using?**\n",
    "- We plan to apply generative modelling using linear regression model for inference study along with checking model assumptions, model selection and model evaluation\n",
    "- We plan to apply predictive modelling using linear regression model for predictive study along with checking model assumptions, model selection and model evaluation\n",
    "- For checking model assumptions, we will check heteroscedasticity using residual-fitted-value plot; check normality of error terms using Q-Q plots; check multicollinearity using VIF\n",
    "- For model selection, we will use backward selection for inference study and forward selection for predictive study\n",
    "- (For model evaluation, we will generate data and use adjusted R^2 to evaluate generative models and RMSE to evaluate predictive models; we will use F-test to compare models with different size)\n",
    " \n",
    "**What do you expect to achieve?**\n",
    "- We expect to see at least 5 factors among the 10 exploratory variables are associated with the response variable\n",
    "- … (we need more)\n",
    " \n",
    "**What impacts could your results have?**\n",
    "- Through the inference study of factors associated with number of violent crime, the government may take corresponding measures to decrease the violent crime rate\n",
    "- Using the predictive model, the government can predict the number of violent crime in specific areas based on related factors and then determine police operating budget for different areas\n",
    "- Future related crime studies can use this study as an reference\n"
   ]
  },
  {
   "cell_type": "markdown",
   "id": "fbdab72c-2b45-4822-bf92-d38684f4a3d7",
   "metadata": {},
   "source": [
    "## Reference"
   ]
  },
  {
   "cell_type": "markdown",
   "id": "30d3cde3-f286-41d9-a053-dccb3155bc77",
   "metadata": {},
   "source": [
    "**References**\n",
    "\n",
    "Daigle, Leah E.; Hancock, Katelyn; Chafin, Travis C.; Azimi, Andia. (2021). U.S. and Canadian College Students’ Fear of Crime: A Comparative Investigation of Fear of Crime and Its Correlates. Journal of Interpersonal Violence 37(15-16). https://doi.org/10.1177/08862605211001477 \n",
    "\n",
    " \n",
    "National Research Council. (2008). Understanding Crime Trends: Workshop Report. Washington, DC: The National Academies Press. https://doi.org/10.17226/12472 \n",
    "\n",
    "**Reference for Dataset**\n",
    " \n",
    "Michael Redmond. (2009). Communities and Crime Data Set. UCI Machine Learning Repository Irvine, CA: the University of California, School of Information and Computer Science. https://archive.ics.uci.edu/ml/datasets/Communities+and+Crime\n"
   ]
  },
  {
   "cell_type": "code",
   "execution_count": null,
   "id": "ed1d3e9b-fda9-4be0-9424-f93003e76a28",
   "metadata": {},
   "outputs": [],
   "source": []
  }
 ],
 "metadata": {
  "kernelspec": {
   "display_name": "R",
   "language": "R",
   "name": "ir"
  },
  "language_info": {
   "codemirror_mode": "r",
   "file_extension": ".r",
   "mimetype": "text/x-r-source",
   "name": "R",
   "pygments_lexer": "r",
   "version": "4.1.3"
  }
 },
 "nbformat": 4,
 "nbformat_minor": 5
}
