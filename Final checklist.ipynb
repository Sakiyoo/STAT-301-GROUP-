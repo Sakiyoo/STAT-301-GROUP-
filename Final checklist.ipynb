{
 "cells": [
  {
   "cell_type": "markdown",
   "id": "82fc5ba8-9e8a-43f0-8bdf-3025ba081d16",
   "metadata": {},
   "source": [
    "**Checklist for final report**\n",
    "- [ ] Submit both .ipynb and .html files\n",
    "- [ ] Maximum 2000 words (not including citations)\n",
    "- [X] Title\n",
    "- [X] Introduction\n",
    "    - [X] Same as proposal \n",
    "    - [X] Improve based on feedback and own improved understanding\n",
    "- [ ] Methods and Results\n",
    "    - [X] Include “Preliminary results”\n",
    "    - [ ] Used written English to describe codes \n",
    "    - [ ] “Feature Selection” process: how and why we choose the covariates of the final model\n",
    "    - [ ] Interpret and explain the results we obtain\n",
    "    - [ ] Ex. If aim is inference, detailed interpretation of fitted model is required, as well as a discussion of relevant quantities\n",
    "    - [ ] Careful model assessment must be conducted\n",
    "    - [ ] Labelled tables and figures\n",
    "    - [ ] Additional results we planned to conduct as indicated in “Method” of proposal\n",
    "    - [ ] Make improvements based on feedback and own improved understanding \n",
    "- [ ] Discussion\n",
    "    - [ ] Summarize what we found, and the implications/impact of findings\n",
    "    - [ ] Discuss whether our results were what we expected to find\n",
    "    - [ ] Discuss how our model could be improved \n",
    "    - [ ] Discuss future questions/research this study could lead to\n",
    "- [X] References\n",
    "    - [X] Same as proposal\n",
    "    - [X] Change if needed (e.g feedback suggest to change).\n"
   ]
  },
  {
   "cell_type": "markdown",
   "id": "780f0c5b-299c-47b8-9676-04d42479d428",
   "metadata": {},
   "source": [
    "**Some suggestions from peer review:**\n",
    "\n",
    "**Introduction:**\n",
    "- explain why we are interested in the chosen 11 variables and why we omitted other variables [DONE]\n",
    "\n",
    "**Preliminary results:**\n",
    "- explain every plots and tables, e.g. is there any result important to further analysis or modelling?\n",
    "- ggpair also works for categorical plots [DONE]\n",
    "- filter out state variable as it is redundant [DONE]\n",
    "\n",
    "**Methods:**\n",
    "- explain the metrics we will use for the models\n",
    "\n",
    "**Other:**\n",
    "- Since your response variable is always greater than zero, while the range of linear regression is from negative infinity to positive infinity, I would suggest you to discuss about the limitation of the model in your final report.\n",
    "\n"
   ]
  },
  {
   "cell_type": "markdown",
   "id": "2bbf4cd1-d236-4dff-b12c-cc6cbaecb3ea",
   "metadata": {},
   "source": [
    "**Questions to ask:**\n",
    "- should we use log reponse value?\n",
    "- can training and testing data be reused in lasso model?\n",
    "- "
   ]
  },
  {
   "cell_type": "code",
   "execution_count": null,
   "id": "897f41ac-3402-4950-9c81-ff4ad9e47d61",
   "metadata": {},
   "outputs": [],
   "source": []
  }
 ],
 "metadata": {
  "kernelspec": {
   "display_name": "R",
   "language": "R",
   "name": "ir"
  },
  "language_info": {
   "codemirror_mode": "r",
   "file_extension": ".r",
   "mimetype": "text/x-r-source",
   "name": "R",
   "pygments_lexer": "r",
   "version": "4.1.3"
  }
 },
 "nbformat": 4,
 "nbformat_minor": 5
}
